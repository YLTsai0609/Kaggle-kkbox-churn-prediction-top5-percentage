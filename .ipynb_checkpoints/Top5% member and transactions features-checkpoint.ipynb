{
 "cells": [
  {
   "cell_type": "code",
   "execution_count": 3,
   "metadata": {},
   "outputs": [],
   "source": [
    "import pandas as pd\n",
    "import numpy as np\n",
    "import matplotlib.pyplot as plt\n",
    "import seaborn as sns\n",
    "from pandas.plotting import table\n",
    "import datetime as dt \n",
    "# dt as time_series operation\n",
    "%matplotlib inline\n",
    "# for display dataframe\n",
    "from IPython.display import display\n",
    "from IPython.display import display_html\n",
    "def display_side_by_side(*args):\n",
    "    html_str=''\n",
    "    for df in args:\n",
    "        html_str+=df.to_html()\n",
    "    display_html(html_str.replace('table','table style=\"display:inline\"'),raw=True)\n",
    "# ignore warning\n",
    "import warnings\n",
    "warnings.simplefilter(action='ignore', category=FutureWarning)\n",
    "warnings.simplefilter(action='ignore', category=UserWarning)\n",
    "# storage\n",
    "from google.datalab import Context\n",
    "import google.datalab.bigquery as bq\n",
    "try:\n",
    "  from StringIO import StringIO\n",
    "except ImportError:\n",
    "  from io import BytesIO as StringIO\n",
    "# ML\n",
    "from sklearn.ensemble import RandomForestClassifier\n",
    "from sklearn.model_selection import train_test_split\n",
    "from sklearn.metrics import log_loss\n",
    "import xgboost as xgb"
   ]
  },
  {
   "cell_type": "code",
   "execution_count": 4,
   "metadata": {
    "codeCollapsed": true
   },
   "outputs": [],
   "source": [
    "# square scale\n",
    "import matplotlib.scale as mscale\n",
    "import matplotlib.pyplot as plt\n",
    "import matplotlib.transforms as mtransforms\n",
    "import matplotlib.ticker as ticker\n",
    "import numpy as np\n",
    "\n",
    "class SquareRootScale(mscale.ScaleBase):\n",
    "    \"\"\"\n",
    "    ScaleBase class for generating square root scale.\n",
    "    \"\"\"\n",
    "\n",
    "    name = 'squareroot'\n",
    "\n",
    "    def __init__(self, axis, **kwargs):\n",
    "        mscale.ScaleBase.__init__(self)\n",
    "\n",
    "    def set_default_locators_and_formatters(self, axis):\n",
    "        axis.set_major_locator(ticker.AutoLocator())\n",
    "        axis.set_major_formatter(ticker.ScalarFormatter())\n",
    "        axis.set_minor_locator(ticker.NullLocator())\n",
    "        axis.set_minor_formatter(ticker.NullFormatter())\n",
    "\n",
    "    def limit_range_for_scale(self, vmin, vmax, minpos):\n",
    "        return  max(0., vmin), vmax\n",
    "\n",
    "    class SquareRootTransform(mtransforms.Transform):\n",
    "        input_dims = 1\n",
    "        output_dims = 1\n",
    "        is_separable = True\n",
    "\n",
    "        def transform_non_affine(self, a): \n",
    "            return np.array(a)**0.5\n",
    "\n",
    "        def inverted(self):\n",
    "            return SquareRootScale.InvertedSquareRootTransform()\n",
    "\n",
    "    class InvertedSquareRootTransform(mtransforms.Transform):\n",
    "        input_dims = 1\n",
    "        output_dims = 1\n",
    "        is_separable = True\n",
    "\n",
    "        def transform(self, a):\n",
    "            return np.array(a)**2\n",
    "\n",
    "        def inverted(self):\n",
    "            return SquareRootScale.SquareRootTransform()\n",
    "\n",
    "    def get_transform(self):\n",
    "        return self.SquareRootTransform()\n",
    "\n",
    "mscale.register_scale(SquareRootScale)\n",
    "'''\n",
    "fig, ax = plt.subplots(1)\n",
    "\n",
    "ax.plot(np.arange(0, 9)**2, label='$y=x^2$')\n",
    "ax.legend()\n",
    "\n",
    "ax.set_yscale('squareroot')\n",
    "ax.set_yticks(np.arange(0,9,2)**2)\n",
    "ax.set_yticks(np.arange(0,8.5,0.5)**2, minor=True)\n",
    "\n",
    "plt.show()\n",
    "''';"
   ]
  },
  {
   "cell_type": "markdown",
   "metadata": {},
   "source": [
    "# IO"
   ]
  },
  {
   "cell_type": "code",
   "execution_count": 83,
   "metadata": {},
   "outputs": [
    {
     "name": "stdout",
     "output_type": "stream",
     "text": [
      "Collecting xgboost\n",
      "\u001b[?25l  Downloading https://files.pythonhosted.org/packages/54/21/8b2ec99862903a6d3aed62ce156d21d114b8666e669c46d9e54041df9496/xgboost-0.81-py2.py3-none-manylinux1_x86_64.whl (16.6MB)\n",
      "\u001b[K    100% |████████████████████████████████| 16.6MB 1.7MB/s eta 0:00:01\n",
      "\u001b[?25hRequirement already satisfied, skipping upgrade: numpy in /usr/local/envs/py3env/lib/python3.5/site-packages (from xgboost) (1.14.0)\n",
      "Requirement already satisfied, skipping upgrade: scipy in /usr/local/envs/py3env/lib/python3.5/site-packages (from xgboost) (1.0.0)\n",
      "Installing collected packages: xgboost\n",
      "  Found existing installation: xgboost 0.6a2\n",
      "    Uninstalling xgboost-0.6a2:\n",
      "      Successfully uninstalled xgboost-0.6a2\n",
      "Successfully installed xgboost-0.81\n"
     ]
    }
   ],
   "source": [
    "!pip install -U xgboost"
   ]
  },
  {
   "cell_type": "code",
   "execution_count": 1,
   "metadata": {},
   "outputs": [],
   "source": [
    "import xgboost"
   ]
  },
  {
   "cell_type": "code",
   "execution_count": 2,
   "metadata": {},
   "outputs": [
    {
     "data": {
      "text/plain": [
       "'0.81'"
      ]
     },
     "execution_count": 2,
     "metadata": {},
     "output_type": "execute_result"
    }
   ],
   "source": [
    "xgboost.__version__"
   ]
  },
  {
   "cell_type": "code",
   "execution_count": 5,
   "metadata": {},
   "outputs": [],
   "source": [
    "%gcs read --object gs://kk_data/ft_satisfaction.csv -v df_ft_satis"
   ]
  },
  {
   "cell_type": "code",
   "execution_count": 6,
   "metadata": {},
   "outputs": [],
   "source": [
    "df_ft_satis = pd.read_csv(StringIO(df_ft_satis))"
   ]
  },
  {
   "cell_type": "code",
   "execution_count": 7,
   "metadata": {},
   "outputs": [],
   "source": [
    "%gcs read --object gs://kk_data/ft_day_listen.csv -v df_ft_day_listen"
   ]
  },
  {
   "cell_type": "code",
   "execution_count": 8,
   "metadata": {},
   "outputs": [],
   "source": [
    "df_ft_day_listen = pd.read_csv(StringIO(df_ft_day_listen))\n",
    "df_train = pd.merge(df_ft_day_listen, df_ft_satis, how='left',on=['msno'])"
   ]
  },
  {
   "cell_type": "code",
   "execution_count": 9,
   "metadata": {},
   "outputs": [],
   "source": [
    "%gcs read --object gs://kk_data/sub_ft_satisfaction.csv -v df_sub_ft_satis"
   ]
  },
  {
   "cell_type": "code",
   "execution_count": 10,
   "metadata": {},
   "outputs": [],
   "source": [
    "%gcs read --object gs://kk_data/sub_ft_day_listen.csv -v df_sub_ft_day_listen"
   ]
  },
  {
   "cell_type": "code",
   "execution_count": 11,
   "metadata": {},
   "outputs": [],
   "source": [
    "df_sub_ft_day_listen = pd.read_csv(StringIO(df_sub_ft_day_listen))\n",
    "df_sub_ft_satis = pd.read_csv(StringIO(df_sub_ft_satis))\n",
    "df_sub = pd.merge(df_sub_ft_day_listen, df_sub_ft_satis, how='left',on=['msno'])\n",
    "\n",
    "df_sub.is_churn = np.nan"
   ]
  },
  {
   "cell_type": "code",
   "execution_count": 12,
   "metadata": {},
   "outputs": [],
   "source": [
    "%gcs read --object gs://kk_data/members_v3.csv -v members"
   ]
  },
  {
   "cell_type": "code",
   "execution_count": 13,
   "metadata": {},
   "outputs": [],
   "source": [
    "df_members =pd.read_csv(StringIO(members))"
   ]
  },
  {
   "cell_type": "code",
   "execution_count": 14,
   "metadata": {},
   "outputs": [
    {
     "name": "stdout",
     "output_type": "stream",
     "text": [
      "---------- missing value summary ----------\n",
      "msno                     0.000\n",
      "is_churn                 0.506\n",
      "six_month_day_listen     0.173\n",
      "six_month_satis          0.173\n",
      "city                     0.123\n",
      "bd                       0.123\n",
      "gender                   0.646\n",
      "registered_via           0.123\n",
      "registration_init_time   0.123\n",
      "dtype: float64\n"
     ]
    }
   ],
   "source": [
    "df_data = df_train.append(df_sub)\n",
    "df_data = pd.merge(df_data, df_members, how='left',on=['msno'])\n",
    "gender_encode = {'male':1, 'female':2}\n",
    "df_data.gender = df_data.gender.map(gender_encode)\n",
    "# change feature name\n",
    "df_data = df_data.rename(columns={'day_listen':'six_month_day_listen','user_latent_satisfaction':'six_month_satis'})\n",
    "# missing value \n",
    "print('-'*10,'missing value summary','-'*10)\n",
    "pd.set_option('display.float_format', lambda x: '%.3f' % x)\n",
    "print(df_data.isnull().sum() / len(df_data))"
   ]
  },
  {
   "cell_type": "code",
   "execution_count": 15,
   "metadata": {},
   "outputs": [
    {
     "data": {
      "text/html": [
       "<div>\n",
       "<style scoped>\n",
       "    .dataframe tbody tr th:only-of-type {\n",
       "        vertical-align: middle;\n",
       "    }\n",
       "\n",
       "    .dataframe tbody tr th {\n",
       "        vertical-align: top;\n",
       "    }\n",
       "\n",
       "    .dataframe thead th {\n",
       "        text-align: right;\n",
       "    }\n",
       "</style>\n",
       "<table border=\"1\" class=\"dataframe\">\n",
       "  <thead>\n",
       "    <tr style=\"text-align: right;\">\n",
       "      <th></th>\n",
       "      <th>msno</th>\n",
       "      <th>is_churn</th>\n",
       "      <th>six_month_day_listen</th>\n",
       "      <th>six_month_satis</th>\n",
       "      <th>city</th>\n",
       "      <th>bd</th>\n",
       "      <th>gender</th>\n",
       "      <th>registered_via</th>\n",
       "      <th>registration_init_time</th>\n",
       "    </tr>\n",
       "  </thead>\n",
       "  <tbody>\n",
       "    <tr>\n",
       "      <th>0</th>\n",
       "      <td>0nB9bTDIfGnfO+0TI5mI26X9oNuy/T4fIzND+D+RcQ4=</td>\n",
       "      <td>0.000</td>\n",
       "      <td>nan</td>\n",
       "      <td>nan</td>\n",
       "      <td>nan</td>\n",
       "      <td>nan</td>\n",
       "      <td>nan</td>\n",
       "      <td>nan</td>\n",
       "      <td>nan</td>\n",
       "    </tr>\n",
       "    <tr>\n",
       "      <th>1</th>\n",
       "      <td>2G9f1kCzNUsrpHaOKlHzK11vmtC9HfXmvYmHqAlr1Yc=</td>\n",
       "      <td>0.000</td>\n",
       "      <td>nan</td>\n",
       "      <td>nan</td>\n",
       "      <td>1.000</td>\n",
       "      <td>0.000</td>\n",
       "      <td>nan</td>\n",
       "      <td>7.000</td>\n",
       "      <td>20150826.000</td>\n",
       "    </tr>\n",
       "    <tr>\n",
       "      <th>2</th>\n",
       "      <td>QKXNX8FDdZNpmo50ENWER9/xdbjUGwO3euVsYoaYVu8=</td>\n",
       "      <td>0.000</td>\n",
       "      <td>nan</td>\n",
       "      <td>nan</td>\n",
       "      <td>1.000</td>\n",
       "      <td>0.000</td>\n",
       "      <td>nan</td>\n",
       "      <td>7.000</td>\n",
       "      <td>20130825.000</td>\n",
       "    </tr>\n",
       "    <tr>\n",
       "      <th>3</th>\n",
       "      <td>QMa4IOS+j5ryiIyE2ywjxjaxUeKFpFNNr8MCMzpbIsc=</td>\n",
       "      <td>0.000</td>\n",
       "      <td>nan</td>\n",
       "      <td>nan</td>\n",
       "      <td>nan</td>\n",
       "      <td>nan</td>\n",
       "      <td>nan</td>\n",
       "      <td>nan</td>\n",
       "      <td>nan</td>\n",
       "    </tr>\n",
       "    <tr>\n",
       "      <th>4</th>\n",
       "      <td>RM0u90xU9bIn+1P3yHVW9fuF2RvPrsEoaRJazS3sSy8=</td>\n",
       "      <td>0.000</td>\n",
       "      <td>nan</td>\n",
       "      <td>nan</td>\n",
       "      <td>nan</td>\n",
       "      <td>nan</td>\n",
       "      <td>nan</td>\n",
       "      <td>nan</td>\n",
       "      <td>nan</td>\n",
       "    </tr>\n",
       "  </tbody>\n",
       "</table>\n",
       "</div>"
      ],
      "text/plain": [
       "                                           msno  is_churn  \\\n",
       "0  0nB9bTDIfGnfO+0TI5mI26X9oNuy/T4fIzND+D+RcQ4=     0.000   \n",
       "1  2G9f1kCzNUsrpHaOKlHzK11vmtC9HfXmvYmHqAlr1Yc=     0.000   \n",
       "2  QKXNX8FDdZNpmo50ENWER9/xdbjUGwO3euVsYoaYVu8=     0.000   \n",
       "3  QMa4IOS+j5ryiIyE2ywjxjaxUeKFpFNNr8MCMzpbIsc=     0.000   \n",
       "4  RM0u90xU9bIn+1P3yHVW9fuF2RvPrsEoaRJazS3sSy8=     0.000   \n",
       "\n",
       "   six_month_day_listen  six_month_satis  city    bd  gender  registered_via  \\\n",
       "0                   nan              nan   nan   nan     nan             nan   \n",
       "1                   nan              nan 1.000 0.000     nan           7.000   \n",
       "2                   nan              nan 1.000 0.000     nan           7.000   \n",
       "3                   nan              nan   nan   nan     nan             nan   \n",
       "4                   nan              nan   nan   nan     nan             nan   \n",
       "\n",
       "   registration_init_time  \n",
       "0                     nan  \n",
       "1            20150826.000  \n",
       "2            20130825.000  \n",
       "3                     nan  \n",
       "4                     nan  "
      ]
     },
     "execution_count": 15,
     "metadata": {},
     "output_type": "execute_result"
    }
   ],
   "source": [
    "df_data.head()"
   ]
  },
  {
   "cell_type": "markdown",
   "metadata": {},
   "source": [
    "# Member features"
   ]
  },
  {
   "cell_type": "markdown",
   "metadata": {},
   "source": [
    "## Registered_via"
   ]
  },
  {
   "cell_type": "code",
   "execution_count": 16,
   "metadata": {},
   "outputs": [
    {
     "data": {
      "text/plain": [
       "<matplotlib.lines.Line2D at 0x7f5ebf931c88>"
      ]
     },
     "execution_count": 16,
     "metadata": {},
     "output_type": "execute_result"
    },
    {
     "data": {
      "image/png": "[encoded data removed]",
      "text/plain": [
       "<matplotlib.figure.Figure at 0x7f5f077820b8>"
      ]
     },
     "metadata": {},
     "output_type": "display_data"
    }
   ],
   "source": [
    "# aggregate result in order to sort \n",
    "result_reg = df_data.groupby([\"registered_via\"])['is_churn'].mean().reset_index().sort_values('is_churn')\n",
    "# make plot\n",
    "fig, ax = plt.subplots(figsize=(8,6))\n",
    "sns.barplot(x='registered_via',y='is_churn',data=df_data,order=result_reg['registered_via'],ax=ax,alpha=.75)\n",
    "ax.axhline(0.049,linestyle='dashed', c='black',alpha = .3)"
   ]
  },
  {
   "cell_type": "code",
   "execution_count": 17,
   "metadata": {},
   "outputs": [],
   "source": [
    "df_data.registered_via = df_data.registered_via.fillna(-1)\n",
    "df_data.six_month_day_listen = df_data.six_month_day_listen.fillna(-1)\n",
    "df_data.six_month_satis = df_data.six_month_satis.fillna(-1)"
   ]
  },
  {
   "cell_type": "markdown",
   "metadata": {},
   "source": [
    "### Modeling"
   ]
  },
  {
   "cell_type": "code",
   "execution_count": 16,
   "metadata": {},
   "outputs": [],
   "source": [
    "def model_training_rf(training_data,testing_data):\n",
    "  # splits train and validation set\n",
    "  X = training_data.drop(labels=['msno','is_churn'],axis=1)\n",
    "  Y = training_data['is_churn']\n",
    "  X_train, X_val, Y_train, Y_val = train_test_split(X, Y, test_size=0.2,random_state = 2)\n",
    "  # Training ~ 01:45s\n",
    "  model = RandomForestClassifier(random_state=2,n_estimators=300,\n",
    "                           min_samples_split=0.05,n_jobs=-1,class_weight={0 :0.45,1 :0.55})\n",
    "  model.fit(X_train,Y_train)\n",
    "  \n",
    "  # caculating E_val\n",
    "\n",
    "  model_probs = model.predict_proba(X_val)\n",
    "    # [:,1] to show the prob to is_churn = 1\n",
    "  model_val_score = log_loss(Y_val,model_probs[:,1])\n",
    "  \n",
    "  # predict on testing set\n",
    "  model_pred_testing_set = model.predict_proba(testing_data.drop(labels=['msno','is_churn'],axis=1))\n",
    "  model_pred_testing_set = model_pred_testing_set[:,1] # take out the prob if is_churn = 1\n",
    "  submission = pd.DataFrame({\"msno\": testing_data.msno})\n",
    "  submission.insert(1,column='is_churn',value=model_pred_testing_set)\n",
    "  \n",
    "  return model, model_val_score, submission"
   ]
  },
  {
   "cell_type": "code",
   "execution_count": 60,
   "metadata": {},
   "outputs": [],
   "source": [
    "def model_training_xgb(training_data,testing_data):\n",
    "  # splits train and validation set\n",
    "  X = training_data.drop(labels=['msno','is_churn'],axis=1)\n",
    "  Y = training_data['is_churn']\n",
    "  X_train, X_val, Y_train, Y_val = train_test_split(X, Y, test_size=0.2,random_state = 2)\n",
    "  # model\n",
    "  xgb_watchlist = [(X_train, Y_train), (X_val, Y_val)]\n",
    "  model = xgb.XGBClassifier(learning_rate=0.08, max_depth=4,n_estimators=300,\\\n",
    "                 subsample=0.5, seed=2,missing=-1)\n",
    "  model.fit(X_train, Y_train,eval_set=xgb_watchlist,eval_metric='logloss',\n",
    "            early_stopping_rounds=20,verbose=70)\n",
    "  # caculating E_val\n",
    "\n",
    "  model_probs = model.predict_proba(X_val)\n",
    "    # [:,1] to show the prob to is_churn = 1\n",
    "  model_val_score = log_loss(Y_val,model_probs[:,1])\n",
    "  \n",
    "  # predict on testing set\n",
    "  model_pred_testing_set = model.predict_proba(testing_data.drop(labels=['msno','is_churn'],axis=1))\n",
    "  model_pred_testing_set = model_pred_testing_set[:,1] # take out the prob if is_churn = 1\n",
    "  submission = pd.DataFrame({\"msno\": testing_data.msno})\n",
    "  submission.insert(1,column='is_churn',value=model_pred_testing_set)\n",
    "  \n",
    "  return model, model_val_score, submission"
   ]
  },
  {
   "cell_type": "code",
   "execution_count": 18,
   "metadata": {},
   "outputs": [
    {
     "name": "stdout",
     "output_type": "stream",
     "text": [
      "Index(['msno', 'is_churn', 'six_month_day_listen', 'six_month_satis', 'city',\n",
      "       'bd', 'gender', 'registered_via', 'registration_init_time'],\n",
      "      dtype='object')\n",
      "Index(['msno', 'is_churn', 'six_month_day_listen', 'six_month_satis', 'city',\n",
      "       'bd', 'gender', 'registered_via', 'registration_init_time'],\n",
      "      dtype='object')\n"
     ]
    }
   ],
   "source": [
    "df_train, df_sub = df_data[:len(df_train)], df_data[len(df_train):]\n",
    "print(df_train.columns)\n",
    "print(df_sub.columns)\n",
    "reg_via_fts = ['msno','is_churn','six_month_day_listen', 'six_month_satis','registered_via']"
   ]
  },
  {
   "cell_type": "code",
   "execution_count": 19,
   "metadata": {},
   "outputs": [],
   "source": [
    "reg_via_model, reg_via_val_score,\\\n",
    "reg_via_pred = model_training_rf(df_train[reg_via_fts],df_sub[reg_via_fts])"
   ]
  },
  {
   "cell_type": "code",
   "execution_count": 20,
   "metadata": {},
   "outputs": [
    {
     "name": "stdout",
     "output_type": "stream",
     "text": [
      "[0]\tvalidation_0-logloss:0.629554\tvalidation_1-logloss:0.629492\n",
      "Multiple eval metrics have been passed: 'validation_1-logloss' will be used for early stopping.\n",
      "\n",
      "Will train until validation_1-logloss hasn't improved in 20 rounds.\n",
      "[70]\tvalidation_0-logloss:0.165479\tvalidation_1-logloss:0.164147\n",
      "Stopping. Best iteration:\n",
      "[96]\tvalidation_0-logloss:0.16525\tvalidation_1-logloss:0.164031\n",
      "\n"
     ]
    }
   ],
   "source": [
    "reg_via_model_xgb, reg_via_val_score_xgb,\\\n",
    "reg_via_pred_xgb = model_training_xgb(df_train[reg_via_fts],df_sub[reg_via_fts])"
   ]
  },
  {
   "cell_type": "code",
   "execution_count": 21,
   "metadata": {},
   "outputs": [
    {
     "name": "stdout",
     "output_type": "stream",
     "text": [
      "day_listen + user_letent_satisfaction logloss val:  0.192158\n",
      "reg_via log_loss val xgb:  0.164043\n",
      "reg_via log_loss val rf:  0.167576\n",
      "-------------------- LB --------------------\n",
      "reg_via log_loss LB :  0.13264\n"
     ]
    }
   ],
   "source": [
    "print('day_listen + user_letent_satisfaction logloss val: ',0.192158)\n",
    "print('reg_via log_loss val xgb: ',np.around(reg_via_val_score_xgb,decimals=6))\n",
    "print('reg_via log_loss val rf: ',np.around(reg_via_val_score,decimals=6))\n",
    "print('-'*20,'LB','-'*20)\n",
    "print('reg_via log_loss LB : ',0.13264)"
   ]
  },
  {
   "cell_type": "code",
   "execution_count": 41,
   "metadata": {},
   "outputs": [],
   "source": [
    "reg_via_pred_xgb.to_csv(\"/content/datalab/sub_reg_via_xgb_pred.csv\", index=False)"
   ]
  },
  {
   "cell_type": "code",
   "execution_count": 42,
   "metadata": {},
   "outputs": [
    {
     "name": "stdout",
     "output_type": "stream",
     "text": [
      "Copying file:///content/datalab/sub_reg_via_xgb_pred.csv [Content-Type=text/csv]...\n",
      "- [1 files][ 49.1 MiB/ 49.1 MiB]                                                \n",
      "Operation completed over 1 objects/49.1 MiB.                                     \n"
     ]
    }
   ],
   "source": [
    "!gsutil cp '/content/datalab/sub_reg_via_xgb_pred.csv' 'gs://kk_data/submission/sub_reg_via_xgb_pred.csv';"
   ]
  },
  {
   "cell_type": "markdown",
   "metadata": {},
   "source": [
    "## Age"
   ]
  },
  {
   "cell_type": "code",
   "execution_count": 19,
   "metadata": {},
   "outputs": [
    {
     "data": {
      "text/html": [
       "<div>\n",
       "<style scoped>\n",
       "    .dataframe tbody tr th:only-of-type {\n",
       "        vertical-align: middle;\n",
       "    }\n",
       "\n",
       "    .dataframe tbody tr th {\n",
       "        vertical-align: top;\n",
       "    }\n",
       "\n",
       "    .dataframe thead th {\n",
       "        text-align: right;\n",
       "    }\n",
       "</style>\n",
       "<table border=\"1\" class=\"dataframe\">\n",
       "  <thead>\n",
       "    <tr style=\"text-align: right;\">\n",
       "      <th></th>\n",
       "      <th>bd</th>\n",
       "    </tr>\n",
       "  </thead>\n",
       "  <tbody>\n",
       "    <tr>\n",
       "      <th>count</th>\n",
       "      <td>1572841.000</td>\n",
       "    </tr>\n",
       "    <tr>\n",
       "      <th>mean</th>\n",
       "      <td>12.073</td>\n",
       "    </tr>\n",
       "    <tr>\n",
       "      <th>std</th>\n",
       "      <td>18.998</td>\n",
       "    </tr>\n",
       "    <tr>\n",
       "      <th>min</th>\n",
       "      <td>-3152.000</td>\n",
       "    </tr>\n",
       "    <tr>\n",
       "      <th>25%</th>\n",
       "      <td>0.000</td>\n",
       "    </tr>\n",
       "    <tr>\n",
       "      <th>50%</th>\n",
       "      <td>0.000</td>\n",
       "    </tr>\n",
       "    <tr>\n",
       "      <th>75%</th>\n",
       "      <td>26.000</td>\n",
       "    </tr>\n",
       "    <tr>\n",
       "      <th>max</th>\n",
       "      <td>2016.000</td>\n",
       "    </tr>\n",
       "  </tbody>\n",
       "</table>\n",
       "</div>"
      ],
      "text/plain": [
       "               bd\n",
       "count 1572841.000\n",
       "mean       12.073\n",
       "std        18.998\n",
       "min     -3152.000\n",
       "25%         0.000\n",
       "50%         0.000\n",
       "75%        26.000\n",
       "max      2016.000"
      ]
     },
     "metadata": {},
     "output_type": "display_data"
    },
    {
     "name": "stdout",
     "output_type": "stream",
     "text": [
      "Ages between 0 ~ 90   :  0.350   \n"
     ]
    }
   ],
   "source": [
    "display(df_data[['bd']].describe())\n",
    "# how many % of meanful values? \n",
    "meaningful = (df_data.bd > 0 ) & (df_data.bd < 90)\n",
    "print('Ages between 0 ~ 90   :  %.3f   ' %( len(df_data[meaningful]) / len(df_data) ))"
   ]
  },
  {
   "cell_type": "code",
   "execution_count": 20,
   "metadata": {},
   "outputs": [
    {
     "data": {
      "image/png": "[encoded data removed]",
      "text/plain": [
       "<matplotlib.figure.Figure at 0x7f5f2db2e400>"
      ]
     },
     "metadata": {},
     "output_type": "display_data"
    }
   ],
   "source": [
    "sns.set(font_scale=1.56)\n",
    "from pandas.plotting import table\n",
    "\n",
    "# create fig and ax \n",
    "with sns.axes_style('white'):\n",
    "\n",
    "    fig, [ax1, ax2] = plt.subplots(1,2, figsize=(25,10))\n",
    "# distribution\n",
    "    NOT_churn = ( (df_data.is_churn == 0) & (df_data.bd > 0 ) & (df_data.bd < 90) )\n",
    "    churn = ( (df_data.is_churn == 1) & (df_data.bd > 0 ) & (df_data.bd < 90) )\n",
    "    bins= 25\n",
    "    sns.distplot(df_data.loc[NOT_churn,'bd'],kde=False,label='NOT_churn',ax=ax1,norm_hist=True,bins=bins)\n",
    "    sns.distplot(df_data.loc[churn,'bd'],kde=False,label='churn',ax=ax1,norm_hist=True,bins=bins)\n",
    "    ax1.legend()\n",
    "    ax1.axvline(26,linestyle='dashed',c='black',alpha=.5)\n",
    "\n",
    "# feature engineering\n",
    "# create feature  bd<26 == 1, bd>26 ==0 , other = -1\n",
    "    condition = df_data.bd < 26\n",
    "    df_data['age_under_26'] = df_data.bd.apply(lambda x: 1 if 0 < x <= 26 else 0 if 26 < x <= 90 else -1)\n",
    "\n",
    "# prepare table (% of each value)\n",
    "    df_percent = pd.DataFrame( df_data['age_under_26'].value_counts().sort_index() / len(df_data) ).round(3) \n",
    "# barplot with percent table\n",
    "    sns.barplot(x='age_under_26',y='is_churn',data=df_data,ax=ax2)\n",
    "    ax2.axhline(0.049,linestyle='dashed', c='black',alpha = .3)\n",
    "    table(ax2, df_percent,bbox=[0.035, 0.72, 0.2, 0.27])"
   ]
  },
  {
   "cell_type": "markdown",
   "metadata": {},
   "source": [
    "### Modeling"
   ]
  },
  {
   "cell_type": "code",
   "execution_count": 21,
   "metadata": {},
   "outputs": [
    {
     "name": "stdout",
     "output_type": "stream",
     "text": [
      "Index(['msno', 'is_churn', 'six_month_day_listen', 'six_month_satis', 'city',\n",
      "       'bd', 'gender', 'registered_via', 'registration_init_time',\n",
      "       'age_under_26'],\n",
      "      dtype='object')\n",
      "Index(['msno', 'is_churn', 'six_month_day_listen', 'six_month_satis', 'city',\n",
      "       'bd', 'gender', 'registered_via', 'registration_init_time',\n",
      "       'age_under_26'],\n",
      "      dtype='object')\n"
     ]
    }
   ],
   "source": [
    "# split and prepare features \n",
    "df_train = df_data[:len(df_train)]\n",
    "df_sub = df_data[len(df_train):]\n",
    "print(df_train.columns)\n",
    "print(df_sub.columns)\n",
    "age_fts = reg_via_fts + ['age_under_26']\n",
    "exclude_list = ['msno','is_churn']"
   ]
  },
  {
   "cell_type": "code",
   "execution_count": 48,
   "metadata": {},
   "outputs": [
    {
     "name": "stdout",
     "output_type": "stream",
     "text": [
      "training using features: ['six_month_day_listen', 'six_month_satis', 'registered_via', 'age_under_26']\n",
      "[0]\tvalidation_0-logloss:0.629484\tvalidation_1-logloss:0.629412\n",
      "Multiple eval metrics have been passed: 'validation_1-logloss' will be used for early stopping.\n",
      "\n",
      "Will train until validation_1-logloss hasn't improved in 20 rounds.\n",
      "[70]\tvalidation_0-logloss:0.163379\tvalidation_1-logloss:0.161816\n",
      "Stopping. Best iteration:\n",
      "[118]\tvalidation_0-logloss:0.162942\tvalidation_1-logloss:0.161544\n",
      "\n"
     ]
    }
   ],
   "source": [
    "print('training using features:' ,[fts for fts in age_fts if fts not in exclude_list])\n",
    "age_model_xgb, age_val_score_xgb,\\\n",
    "age_pred_xgb = model_training_xgb(df_train[age_fts],df_sub[age_fts])"
   ]
  },
  {
   "cell_type": "code",
   "execution_count": 51,
   "metadata": {},
   "outputs": [
    {
     "name": "stdout",
     "output_type": "stream",
     "text": [
      "Copying file:///content/datalab/sub_age_xgb_pred.csv [Content-Type=text/csv]...\n",
      "- [1 files][ 49.0 MiB/ 49.0 MiB]                                                \n",
      "Operation completed over 1 objects/49.0 MiB.                                     \n",
      "reg_via logloss val:  0.164043\n",
      "reg_via logloss LB:  0.13264\n",
      "--------------------  + age --------------------\n",
      "age log_loss LB :  0.161515\n",
      "age log_loss LB :  0.13161\n"
     ]
    }
   ],
   "source": [
    "age_pred_xgb.to_csv(\"/content/datalab/sub_age_xgb_pred.csv\", index=False)\n",
    "!gsutil cp '/content/datalab/sub_age_xgb_pred.csv' 'gs://kk_data/submission/sub_age_xgb_pred.csv';\n",
    "\n",
    "print('reg_via logloss val: ',0.164043)\n",
    "print('reg_via logloss LB: ',0.13264)\n",
    "print('-'*20,' + age','-'*20)\n",
    "print('age log_loss LB : ',0.161515)\n",
    "print('age log_loss LB : ',0.13161)"
   ]
  },
  {
   "cell_type": "markdown",
   "metadata": {},
   "source": [
    "# Transactions features\n",
    "## IO"
   ]
  },
  {
   "cell_type": "code",
   "execution_count": 52,
   "metadata": {},
   "outputs": [],
   "source": [
    "'''\n",
    "# first time you for merging data\n",
    "%gcs read --object gs://kk_data/transactions.csv -v trans\n",
    "\n",
    "%gcs read --object gs://kk_data/transactions_v2.csv -v trans_v2\n",
    "\n",
    "%%time\n",
    "df_trans = pd.read_csv(StringIO(trans))\n",
    "df_trans_v2 = pd.read_csv(StringIO(trans_v2))\n",
    "df_trans_all = pd.concat([df_trans,df_trans_v2])\n",
    "df_train_trans = pd.merge(df_train[['msno','is_churn']],df_trans_all,how='left',on=['msno'])\n",
    "df_sub_trans = pd.merge(df_sub[['msno','is_churn']],df_trans_all,how='left',on=['msno'])\n",
    "\n",
    "df_train_trans.to_csv(\"/content/datalab/df_train_trans_merged.csv\", index=False)\n",
    "!gsutil cp '/content/datalab/df_train_trans_merged.csv' 'gs://kk_data/df_train_trans_merged.csv';\n",
    "\n",
    "df_sub_trans.to_csv(\"/content/datalab/df_sub_trans_merged.csv\", index=False)\n",
    "!gsutil cp '/content/datalab/df_sub_trans_merged.csv' 'gs://kk_data/df_sub_trans_merged.csv';\n",
    "''';"
   ]
  },
  {
   "cell_type": "code",
   "execution_count": 22,
   "metadata": {},
   "outputs": [],
   "source": [
    "%gcs read --object gs://kk_data/df_train_trans_merged.csv -v trans"
   ]
  },
  {
   "cell_type": "code",
   "execution_count": 23,
   "metadata": {},
   "outputs": [],
   "source": [
    "%gcs read --object gs://kk_data/df_sub_trans_merged.csv -v sub_trans"
   ]
  },
  {
   "cell_type": "code",
   "execution_count": 24,
   "metadata": {},
   "outputs": [
    {
     "name": "stdout",
     "output_type": "stream",
     "text": [
      "CPU times: user 33 s, sys: 5.19 s, total: 38.2 s\n",
      "Wall time: 38.2 s\n"
     ]
    }
   ],
   "source": [
    "%%time\n",
    "df_train_trans = pd.read_csv(StringIO(trans))\n",
    "df_sub_trans = pd.read_csv(StringIO(sub_trans))"
   ]
  },
  {
   "cell_type": "code",
   "execution_count": 25,
   "metadata": {},
   "outputs": [
    {
     "data": {
      "text/plain": [
       "((14622996, 10), (14545180, 10))"
      ]
     },
     "execution_count": 25,
     "metadata": {},
     "output_type": "execute_result"
    }
   ],
   "source": [
    "df_train_trans.shape, df_sub_trans.shape"
   ]
  },
  {
   "cell_type": "code",
   "execution_count": 26,
   "metadata": {},
   "outputs": [],
   "source": [
    "def dtype_compressor(df):\n",
    "  #object \n",
    "  # when unique ratio > 0.5, catogory stands less memory than object\n",
    "  converted_obj = pd.DataFrame()\n",
    "  df_obj = df.select_dtypes(include=['object'])\n",
    "  for col in df_obj.columns:\n",
    "    converted_obj.loc[:,col] = df_obj.loc[:,col].astype('category')\n",
    "\n",
    "  # numbers\n",
    "  df_down_num = pd.DataFrame()\n",
    "  df_num = df.select_dtypes(include=['number'])\n",
    "  for col in df_num.columns:\n",
    "    df_down_num.loc[:,col] = pd.to_numeric(df_num.loc[:,col],downcast='signed')\n",
    "\n",
    "  # merge\n",
    "  df = pd.concat([converted_obj,df_down_num],axis=1)\n",
    "  \n",
    "  del converted_obj, df_obj, df_down_num, df_num  \n",
    "  \n",
    "  return df"
   ]
  },
  {
   "cell_type": "code",
   "execution_count": 27,
   "metadata": {},
   "outputs": [],
   "source": [
    "def fast_datetime(s):\n",
    "    dates = {date:pd.to_datetime(date,format='%Y%m%d') for date in s.unique()}\n",
    "    return s.map(dates)"
   ]
  },
  {
   "cell_type": "code",
   "execution_count": 28,
   "metadata": {},
   "outputs": [],
   "source": [
    "# rename the columns\n",
    "date_rename = {'transaction_date':'trans_date', 'membership_expire_date':'mem_expire_date'}\n",
    "df_train_trans.rename(columns=date_rename,inplace=True)\n",
    "df_sub_trans.rename(columns=date_rename,inplace=True)\n",
    "\n",
    "# converting\n",
    "df_train_trans = dtype_compressor(df_train_trans)\n",
    "df_sub_trans = dtype_compressor(df_sub_trans)\n",
    "# 1 mins 40 s (with apply approach)\n",
    "# vectorlized 15s\n",
    "d = ['trans_date', 'mem_expire_date']\n",
    "for col in d:\n",
    "  df_train_trans[col] = fast_datetime(df_train_trans[col])\n",
    "  df_sub_trans[col] = fast_datetime(df_sub_trans[col])\n",
    "# took 6s \n",
    "# total about 20~30s for single dataframe"
   ]
  },
  {
   "cell_type": "code",
   "execution_count": 29,
   "metadata": {},
   "outputs": [
    {
     "name": "stdout",
     "output_type": "stream",
     "text": [
      "Traning_set missing:\n",
      " msno                 0.000\n",
      "is_churn             0.000\n",
      "payment_method_id    0.000\n",
      "payment_plan_days    0.000\n",
      "plan_list_price      0.000\n",
      "actual_amount_paid   0.000\n",
      "is_auto_renew        0.000\n",
      "trans_date           0.000\n",
      "mem_expire_date      0.000\n",
      "is_cancel            0.000\n",
      "dtype: float64\n",
      "\n",
      "____________________________________________________________\n",
      "\n",
      "Testing_set missing:\n",
      " msno                 0.000\n",
      "is_churn             1.000\n",
      "payment_method_id    0.000\n",
      "payment_plan_days    0.000\n",
      "plan_list_price      0.000\n",
      "actual_amount_paid   0.000\n",
      "is_auto_renew        0.000\n",
      "trans_date           0.000\n",
      "mem_expire_date      0.000\n",
      "is_cancel            0.000\n",
      "dtype: float64\n"
     ]
    }
   ],
   "source": [
    "df_sub_trans.is_churn = np.NaN\n",
    "print(\"Traning_set missing:\\n\",np.around(df_train_trans.isnull().sum() / df_train_trans.shape[0],decimals=3))\n",
    "print(''*60)\n",
    "print(\"_\"*60)\n",
    "print(''*60)\n",
    "print(\"Testing_set missing:\\n\",np.around(df_sub_trans.isnull().sum() / df_sub_trans.shape[0],decimals=3))\n",
    "# no missing value! we can use trasactions table to filling members (12.3%), uerlogs (23%)"
   ]
  },
  {
   "cell_type": "markdown",
   "metadata": {},
   "source": [
    "## Glance at transactions"
   ]
  },
  {
   "cell_type": "code",
   "execution_count": 30,
   "metadata": {},
   "outputs": [
    {
     "data": {
      "text/html": [
       "<div>\n",
       "<style scoped>\n",
       "    .dataframe tbody tr th:only-of-type {\n",
       "        vertical-align: middle;\n",
       "    }\n",
       "\n",
       "    .dataframe tbody tr th {\n",
       "        vertical-align: top;\n",
       "    }\n",
       "\n",
       "    .dataframe thead th {\n",
       "        text-align: right;\n",
       "    }\n",
       "</style>\n",
       "<table border=\"1\" class=\"dataframe\">\n",
       "  <thead>\n",
       "    <tr style=\"text-align: right;\">\n",
       "      <th></th>\n",
       "      <th>msno</th>\n",
       "      <th>is_churn</th>\n",
       "      <th>payment_method_id</th>\n",
       "      <th>payment_plan_days</th>\n",
       "      <th>plan_list_price</th>\n",
       "      <th>actual_amount_paid</th>\n",
       "      <th>is_auto_renew</th>\n",
       "      <th>trans_date</th>\n",
       "      <th>mem_expire_date</th>\n",
       "      <th>is_cancel</th>\n",
       "    </tr>\n",
       "  </thead>\n",
       "  <tbody>\n",
       "    <tr>\n",
       "      <th>8365578</th>\n",
       "      <td>+++hVY1rZox/33YtvDgmKA2Frg/2qhkz12B9ylCvh8o=</td>\n",
       "      <td>0</td>\n",
       "      <td>41</td>\n",
       "      <td>30</td>\n",
       "      <td>99</td>\n",
       "      <td>99</td>\n",
       "      <td>1</td>\n",
       "      <td>2016-11-16</td>\n",
       "      <td>2016-12-15</td>\n",
       "      <td>0</td>\n",
       "    </tr>\n",
       "    <tr>\n",
       "      <th>8365580</th>\n",
       "      <td>+++hVY1rZox/33YtvDgmKA2Frg/2qhkz12B9ylCvh8o=</td>\n",
       "      <td>0</td>\n",
       "      <td>41</td>\n",
       "      <td>30</td>\n",
       "      <td>99</td>\n",
       "      <td>99</td>\n",
       "      <td>1</td>\n",
       "      <td>2016-12-15</td>\n",
       "      <td>2017-01-15</td>\n",
       "      <td>0</td>\n",
       "    </tr>\n",
       "    <tr>\n",
       "      <th>8365577</th>\n",
       "      <td>+++hVY1rZox/33YtvDgmKA2Frg/2qhkz12B9ylCvh8o=</td>\n",
       "      <td>0</td>\n",
       "      <td>41</td>\n",
       "      <td>30</td>\n",
       "      <td>99</td>\n",
       "      <td>99</td>\n",
       "      <td>1</td>\n",
       "      <td>2017-01-15</td>\n",
       "      <td>2017-02-15</td>\n",
       "      <td>0</td>\n",
       "    </tr>\n",
       "    <tr>\n",
       "      <th>8365579</th>\n",
       "      <td>+++hVY1rZox/33YtvDgmKA2Frg/2qhkz12B9ylCvh8o=</td>\n",
       "      <td>0</td>\n",
       "      <td>41</td>\n",
       "      <td>30</td>\n",
       "      <td>99</td>\n",
       "      <td>99</td>\n",
       "      <td>1</td>\n",
       "      <td>2017-02-15</td>\n",
       "      <td>2017-03-15</td>\n",
       "      <td>0</td>\n",
       "    </tr>\n",
       "    <tr>\n",
       "      <th>8365581</th>\n",
       "      <td>+++hVY1rZox/33YtvDgmKA2Frg/2qhkz12B9ylCvh8o=</td>\n",
       "      <td>0</td>\n",
       "      <td>41</td>\n",
       "      <td>30</td>\n",
       "      <td>99</td>\n",
       "      <td>99</td>\n",
       "      <td>1</td>\n",
       "      <td>2017-03-15</td>\n",
       "      <td>2017-04-15</td>\n",
       "      <td>0</td>\n",
       "    </tr>\n",
       "  </tbody>\n",
       "</table>\n",
       "</div>"
      ],
      "text/plain": [
       "                                                 msno  is_churn  \\\n",
       "8365578  +++hVY1rZox/33YtvDgmKA2Frg/2qhkz12B9ylCvh8o=         0   \n",
       "8365580  +++hVY1rZox/33YtvDgmKA2Frg/2qhkz12B9ylCvh8o=         0   \n",
       "8365577  +++hVY1rZox/33YtvDgmKA2Frg/2qhkz12B9ylCvh8o=         0   \n",
       "8365579  +++hVY1rZox/33YtvDgmKA2Frg/2qhkz12B9ylCvh8o=         0   \n",
       "8365581  +++hVY1rZox/33YtvDgmKA2Frg/2qhkz12B9ylCvh8o=         0   \n",
       "\n",
       "         payment_method_id  payment_plan_days  plan_list_price  \\\n",
       "8365578                 41                 30               99   \n",
       "8365580                 41                 30               99   \n",
       "8365577                 41                 30               99   \n",
       "8365579                 41                 30               99   \n",
       "8365581                 41                 30               99   \n",
       "\n",
       "         actual_amount_paid  is_auto_renew trans_date mem_expire_date  \\\n",
       "8365578                  99              1 2016-11-16      2016-12-15   \n",
       "8365580                  99              1 2016-12-15      2017-01-15   \n",
       "8365577                  99              1 2017-01-15      2017-02-15   \n",
       "8365579                  99              1 2017-02-15      2017-03-15   \n",
       "8365581                  99              1 2017-03-15      2017-04-15   \n",
       "\n",
       "         is_cancel  \n",
       "8365578          0  \n",
       "8365580          0  \n",
       "8365577          0  \n",
       "8365579          0  \n",
       "8365581          0  "
      ]
     },
     "execution_count": 30,
     "metadata": {},
     "output_type": "execute_result"
    }
   ],
   "source": [
    "# sort first for easier exploration\n",
    "df_train_trans = df_train_trans.sort_values(by=['msno','trans_date'])\n",
    "df_sub_trans = df_sub_trans.sort_values(by=['msno','trans_date'])\n",
    "df_train_trans.head()"
   ]
  },
  {
   "cell_type": "markdown",
   "metadata": {},
   "source": [
    "## Preprocessing\n",
    "### Date Outlier"
   ]
  },
  {
   "cell_type": "code",
   "execution_count": 31,
   "metadata": {},
   "outputs": [
    {
     "data": {
      "text/html": [
       "<table style=\"display:inline\" border=\"1\" class=\"dataframe\">\n",
       "  <thead>\n",
       "    <tr style=\"text-align: right;\">\n",
       "      <th></th>\n",
       "      <th>membership_int</th>\n",
       "      <th>payment_plan_days</th>\n",
       "    </tr>\n",
       "  </thead>\n",
       "  <tbody>\n",
       "    <tr>\n",
       "      <th>count</th>\n",
       "      <td>14622996.000</td>\n",
       "      <td>14622996.000</td>\n",
       "    </tr>\n",
       "    <tr>\n",
       "      <th>mean</th>\n",
       "      <td>36.552</td>\n",
       "      <td>30.071</td>\n",
       "    </tr>\n",
       "    <tr>\n",
       "      <th>std</th>\n",
       "      <td>85.576</td>\n",
       "      <td>18.187</td>\n",
       "    </tr>\n",
       "    <tr>\n",
       "      <th>min</th>\n",
       "      <td>-17217.000</td>\n",
       "      <td>0.000</td>\n",
       "    </tr>\n",
       "    <tr>\n",
       "      <th>25%</th>\n",
       "      <td>30.000</td>\n",
       "      <td>30.000</td>\n",
       "    </tr>\n",
       "    <tr>\n",
       "      <th>50%</th>\n",
       "      <td>31.000</td>\n",
       "      <td>30.000</td>\n",
       "    </tr>\n",
       "    <tr>\n",
       "      <th>75%</th>\n",
       "      <td>31.000</td>\n",
       "      <td>30.000</td>\n",
       "    </tr>\n",
       "    <tr>\n",
       "      <th>max</th>\n",
       "      <td>2796.000</td>\n",
       "      <td>450.000</td>\n",
       "    </tr>\n",
       "  </tbody>\n",
       "</table style=\"display:inline\"><table style=\"display:inline\" border=\"1\" class=\"dataframe\">\n",
       "  <thead>\n",
       "    <tr style=\"text-align: right;\">\n",
       "      <th></th>\n",
       "      <th>membership_int</th>\n",
       "      <th>payment_plan_days</th>\n",
       "    </tr>\n",
       "  </thead>\n",
       "  <tbody>\n",
       "    <tr>\n",
       "      <th>count</th>\n",
       "      <td>14545180.000</td>\n",
       "      <td>14545180.000</td>\n",
       "    </tr>\n",
       "    <tr>\n",
       "      <th>mean</th>\n",
       "      <td>36.286</td>\n",
       "      <td>29.950</td>\n",
       "    </tr>\n",
       "    <tr>\n",
       "      <th>std</th>\n",
       "      <td>103.010</td>\n",
       "      <td>17.229</td>\n",
       "    </tr>\n",
       "    <tr>\n",
       "      <th>min</th>\n",
       "      <td>-17217.000</td>\n",
       "      <td>0.000</td>\n",
       "    </tr>\n",
       "    <tr>\n",
       "      <th>25%</th>\n",
       "      <td>30.000</td>\n",
       "      <td>30.000</td>\n",
       "    </tr>\n",
       "    <tr>\n",
       "      <th>50%</th>\n",
       "      <td>31.000</td>\n",
       "      <td>30.000</td>\n",
       "    </tr>\n",
       "    <tr>\n",
       "      <th>75%</th>\n",
       "      <td>31.000</td>\n",
       "      <td>30.000</td>\n",
       "    </tr>\n",
       "    <tr>\n",
       "      <th>max</th>\n",
       "      <td>2796.000</td>\n",
       "      <td>450.000</td>\n",
       "    </tr>\n",
       "  </tbody>\n",
       "</table style=\"display:inline\">"
      ]
     },
     "metadata": {},
     "output_type": "display_data"
    }
   ],
   "source": [
    "# sort first for easier exploration\n",
    "df_train_trans = df_train_trans.sort_values(by=['msno','trans_date'])\n",
    "df_sub_trans = df_sub_trans.sort_values(by=['msno','trans_date'])\n",
    "\n",
    "# build membership\n",
    "df_train_trans = df_train_trans.eval('membership = mem_expire_date - trans_date')\n",
    "df_sub_trans = df_sub_trans.eval('membership = mem_expire_date - trans_date')\n",
    "\n",
    "# now vectorlized\n",
    "df_train_trans['membership_int'] = df_train_trans.membership / np.timedelta64(1,'D')\n",
    "df_sub_trans['membership_int'] = df_sub_trans.membership / np.timedelta64(1,'D')\n",
    "\n",
    "\n",
    "# glance \n",
    "pd.set_option('display.float_format', lambda x: '%.3f' % x)\n",
    "display_side_by_side(df_train_trans[['membership_int','payment_plan_days']].describe(),\\\n",
    "                    df_sub_trans[['membership_int','payment_plan_days']].describe())"
   ]
  },
  {
   "cell_type": "code",
   "execution_count": 32,
   "metadata": {},
   "outputs": [
    {
     "name": "stdout",
     "output_type": "stream",
     "text": [
      "_______________  (the training set) df_train_trans  _______________\n",
      "\n",
      "______________________________  < -30 days ______________________________\n",
      "is_cancel = 0\n",
      "\n",
      "0       179\n",
      "30     1184\n",
      "60       74\n",
      "120       6\n",
      "180       6\n",
      "240      12\n",
      "Name: payment_plan_days, dtype: int64\n",
      "\n",
      "is_cancel = 0 , plan_days = 0\n",
      "0        1\n",
      "149    178\n",
      "Name: actual_amount_paid, dtype: int64\n",
      "\n",
      "______________________________  > 450 days ______________________________\n",
      "is_cancel = 0\n",
      "\n",
      "0       3207\n",
      "1         12\n",
      "10         2\n",
      "14         1\n",
      "30     74547\n",
      "90         1\n",
      "180        3\n",
      "195        2\n",
      "360       14\n",
      "365        2\n",
      "395      142\n",
      "400        9\n",
      "410      108\n",
      "450       75\n",
      "Name: payment_plan_days, dtype: int64\n",
      "\n",
      "is_cancel = 0 & plan_days = 0\n",
      "\n",
      "100       17\n",
      "119      252\n",
      "129      268\n",
      "149     2657\n",
      "1599      11\n",
      "1788       2\n",
      "Name: actual_amount_paid, dtype: int64\n"
     ]
    }
   ],
   "source": [
    "# Summarization\n",
    "print(\"_\"*15,\" (the training set) df_train_trans \", \"_\"*15)\n",
    "print(''*60)\n",
    "print(\"_\"*30,\" < -30 days\", \"_\"*30)\n",
    "print('is_cancel = 0')\n",
    "min_date = df_train_trans.membership_int.min()\n",
    "con = ((df_train_trans.membership_int.between(min_date, -30)) & (df_train_trans.is_cancel == 0))\n",
    "print(''*60)\n",
    "print(df_train_trans.loc[con,'payment_plan_days'].value_counts().sort_index())\n",
    "are_0_plan_days = df_train_trans.payment_plan_days.isin([0])\n",
    "print(''*60)\n",
    "print(\"is_cancel = 0 , plan_days = 0\" ) \n",
    "print(df_train_trans.loc[con & are_0_plan_days, 'actual_amount_paid'].value_counts().sort_index())\n",
    "# 1449 means 30 days plan , only 1 paid zero, place 30 days also\n",
    "print(''*60)\n",
    "print(\"_\"*30,\" > 450 days\", \"_\"*30)\n",
    "print('is_cancel = 0')\n",
    "print(''*60)\n",
    "print(df_train_trans.loc[df_train_trans.membership > pd.Timedelta('450 days'), 'payment_plan_days'].value_counts().sort_index())\n",
    "print(''*60)\n",
    "print('is_cancel = 0 & plan_days = 0')\n",
    "print(''*60)\n",
    "con = (df_train_trans.payment_plan_days == 0) & (df_train_trans.membership_int > 450)\n",
    "print(df_train_trans.loc[con, 'actual_amount_paid'].value_counts().sort_index())\n",
    "# 100,119,129,149 --> 30days \n",
    "#1599.1788 --> 400 days"
   ]
  },
  {
   "cell_type": "code",
   "execution_count": 33,
   "metadata": {},
   "outputs": [],
   "source": [
    "def fast_time_delta(s):\n",
    "    intervals = {interval:pd.to_timedelta(interval,unit='D') for interval in s.unique()}\n",
    "    return s.map(intervals)\n",
    "\n",
    "# ------------------------------------------negtive min_date ~ -30 days-------------------------------------------------------------\n",
    "# is_cancel = 1\n",
    "  # Clean up by replaceing trans_date \n",
    "min_date = df_train_trans.membership_int.min()\n",
    "con = ((df_train_trans.membership_int.between(min_date, -30)) & (df_train_trans.is_cancel == 1))\n",
    "df_train_trans.loc[con, 'mem_expire_date'] = df_train_trans.loc[con, 'trans_date'] \n",
    "# is_cancel = 0\n",
    "  # Clean up use:\n",
    "    # engineered payment_plan_days_time_delta --> plan_days_td\n",
    "    # payment_plan_days not 0 --> expire = trans + plan_days_td\n",
    "    # payment_plan_days is 0  --> expire = trans + 30 days (explored first with actual_amount_paid)\n",
    "    # the actual_amount_paid could be check on Summarization above\n",
    "\n",
    "df_train_trans['plan_days_td'] = fast_time_delta(df_train_trans.payment_plan_days)\n",
    "\n",
    "\n",
    "  # not_0_plan_days\n",
    "con = ((df_train_trans.membership_int.between(min_date,-30)) & (df_train_trans.is_cancel == 0))\n",
    "not_0_plan_days = ~ (df_train_trans.payment_plan_days.isin([0]))\n",
    "df_train_trans.loc[con & not_0_plan_days,'mem_expire_date'] = df_train_trans.loc[con & not_0_plan_days,'trans_date'] + \\\n",
    "df_train_trans.loc[con & not_0_plan_days,'plan_days_td']\n",
    "\n",
    "  # are_0_plan_days\n",
    "are_0_plan_days = df_train_trans.payment_plan_days.isin([0])\n",
    "df_train_trans.loc[con & are_0_plan_days,'mem_expire_date'] = df_train_trans.loc[con & are_0_plan_days,'trans_date'] + pd.Timedelta('30 days')\n",
    "\n",
    "#  -----------------------------------------positive 450 days ~ max_date-------------------------------------------------------------\n",
    "\n",
    "\n",
    "# is_cancel = 1\n",
    "  # Clean up by replaceing trans_date \n",
    "max_date = df_train_trans.membership_int.max()\n",
    "con = ((df_train_trans.membership_int.between(450, max_date)) & (df_train_trans.is_cancel == 1))\n",
    "df_train_trans.loc[con, 'mem_expire_date'] = df_train_trans.loc[con, 'trans_date'] \n",
    "\n",
    "# is_cancel = 0\n",
    "  # Clean up use:\n",
    "    # payment_plan_days not 0 --> expire = trans + plan_days_td\n",
    "    # payment_plan_days is 0 \n",
    "      # the  30 days case --> expire = trans + 30 days\n",
    "      # the 400 days case --> expire = trnas + 400 days\n",
    "\n",
    "\n",
    "# payment_plan_day not 0\n",
    "con = ((df_train_trans.membership_int.between(450,max_date)) & (df_train_trans.is_cancel == 0))\n",
    "not_0_plan_days = ~ (df_train_trans.payment_plan_days.isin([0]))\n",
    "df_train_trans.loc[con & not_0_plan_days,'mem_expire_date'] = df_train_trans.loc[con & not_0_plan_days,'trans_date'] + \\\n",
    "df_train_trans.loc[con & not_0_plan_days,'plan_days_td']\n",
    "\n",
    "# plan_days = 0 infer by actual_amount_paid\n",
    "# the 30 days case\n",
    "\n",
    "con = (df_train_trans.payment_plan_days == 0) & (df_train_trans.membership_int > 450)\n",
    "\n",
    "paid_30_days = df_train_trans.actual_amount_paid.isin([100,119,129,149])\n",
    "df_train_trans.loc[con & paid_30_days , 'mem_expire_date'] = \\\n",
    "df_train_trans.loc[con & paid_30_days, 'trans_date'] + pd.Timedelta('30 days')\n",
    "\n",
    "# plan_days = 0 infer by actual_amount_paid\n",
    "# the 400 days case\n",
    "paid_400_days = df_train_trans.actual_amount_paid.isin([1599,1788])\n",
    "df_train_trans.loc[con & paid_400_days , 'mem_expire_date'] = \\\n",
    "df_train_trans.loc[con & paid_400_days, 'trans_date'] + pd.Timedelta('400 days')"
   ]
  },
  {
   "cell_type": "code",
   "execution_count": 34,
   "metadata": {},
   "outputs": [
    {
     "name": "stdout",
     "output_type": "stream",
     "text": [
      "_______________  (the testing set) df_sub_trans  _______________\n",
      "\n",
      "______________________________  < -30 days ______________________________\n",
      "is_cancel = 0\n",
      "\n",
      "0       175\n",
      "30     1165\n",
      "60      236\n",
      "120       9\n",
      "180       6\n",
      "240       7\n",
      "Name: payment_plan_days, dtype: int64\n",
      "\n",
      "is_cancel = 0 , plan_days = 0\n",
      "0        1\n",
      "149    174\n",
      "Name: actual_amount_paid, dtype: int64\n",
      "\n",
      "______________________________  > 450 days ______________________________\n",
      "is_cancel = 0\n",
      "\n",
      "0       3185\n",
      "1          8\n",
      "10        14\n",
      "14         3\n",
      "30     74535\n",
      "31         1\n",
      "100        5\n",
      "180        3\n",
      "195        3\n",
      "360       36\n",
      "365        1\n",
      "395      141\n",
      "400        9\n",
      "410      101\n",
      "450       41\n",
      "Name: payment_plan_days, dtype: int64\n",
      "\n",
      "is_cancel = 0 & plan_days = 0\n",
      "\n",
      "100       16\n",
      "119      254\n",
      "129      268\n",
      "149     2641\n",
      "1599       6\n",
      "Name: actual_amount_paid, dtype: int64\n"
     ]
    }
   ],
   "source": [
    "# Summirization\n",
    "print(\"_\"*15,\" (the testing set) df_sub_trans \", \"_\"*15)\n",
    "print(''*60)\n",
    "print(\"_\"*30,\" < -30 days\", \"_\"*30)\n",
    "print('is_cancel = 0')\n",
    "min_date = df_sub_trans.membership_int.min()\n",
    "con = ((df_sub_trans.membership_int.between(min_date, -30)) & (df_sub_trans.is_cancel == 0))\n",
    "print(''*60)\n",
    "print(df_sub_trans.loc[con,'payment_plan_days'].value_counts().sort_index())\n",
    "are_0_plan_days = df_sub_trans.payment_plan_days.isin([0])\n",
    "print(''*60)\n",
    "print(\"is_cancel = 0 , plan_days = 0\" ) \n",
    "print(df_sub_trans.loc[con & are_0_plan_days, 'actual_amount_paid'].value_counts().sort_index())\n",
    "# 1449 means 30 days plan , only 1 paid zero, place 30 days also\n",
    "print(''*60)\n",
    "print(\"_\"*30,\" > 450 days\", \"_\"*30)\n",
    "print('is_cancel = 0')\n",
    "print(''*60)\n",
    "print(df_sub_trans.loc[df_sub_trans.membership > pd.Timedelta('450 days'), 'payment_plan_days'].value_counts().sort_index())\n",
    "print(''*60)\n",
    "print('is_cancel = 0 & plan_days = 0')\n",
    "print(''*60)\n",
    "con = (df_sub_trans.payment_plan_days == 0) & (df_sub_trans.membership_int > 450)\n",
    "print(df_sub_trans.loc[con, 'actual_amount_paid'].value_counts().sort_index())\n",
    "# 100,119,129,149 --> 30days \n",
    "#1599.1788 --> 400 days"
   ]
  },
  {
   "cell_type": "code",
   "execution_count": 35,
   "metadata": {},
   "outputs": [],
   "source": [
    "# ------------------------------------------negtive min_date ~ -30 days-------------------------------------------------------------\n",
    "# is_cancel = 1\n",
    "  # Clean up by replaceing trans_date \n",
    "min_date = df_sub_trans.membership_int.min()\n",
    "con = ((df_sub_trans.membership_int.between(min_date, -30)) & (df_sub_trans.is_cancel == 1))\n",
    "df_sub_trans.loc[con, 'mem_expire_date'] = df_sub_trans.loc[con, 'trans_date'] \n",
    "# is_cancel = 0\n",
    "  # Clean up use:\n",
    "    # engineered payment_plan_days_time_delta --> plan_days_td\n",
    "    # payment_plan_days not 0 --> expire = trans + plan_days_td\n",
    "    # payment_plan_days is 0  --> expire = trans + 30 days (explored first with actual_amount_paid)\n",
    "    # the actual_amount_paid could be check on Summirization above\n",
    "\n",
    "df_sub_trans['plan_days_td'] = fast_time_delta(df_sub_trans.payment_plan_days)\n",
    "\n",
    "\n",
    "  # not_0_plan_days\n",
    "con = ((df_sub_trans.membership_int.between(min_date,-30)) & (df_sub_trans.is_cancel == 0))\n",
    "not_0_plan_days = ~ (df_sub_trans.payment_plan_days.isin([0]))\n",
    "df_sub_trans.loc[con & not_0_plan_days,'mem_expire_date'] = df_sub_trans.loc[con & not_0_plan_days,'trans_date'] + \\\n",
    "df_sub_trans.loc[con & not_0_plan_days,'plan_days_td']\n",
    "\n",
    "  # are_0_plan_days\n",
    "  # the only one record paid 0 just fill with 30 days treated as NOISE\n",
    "are_0_plan_days = df_sub_trans.payment_plan_days.isin([0])\n",
    "df_sub_trans.loc[con & are_0_plan_days,'mem_expire_date'] = df_sub_trans.loc[con & are_0_plan_days,'trans_date'] + pd.Timedelta('30 days')\n",
    "\n",
    "#  -----------------------------------------positive 450 days ~ max_date-------------------------------------------------------------\n",
    "\n",
    "\n",
    "# is_cancel = 1\n",
    "  # Clean up by replaceing trans_date \n",
    "max_date = df_sub_trans.membership_int.max()\n",
    "con = ((df_sub_trans.membership_int.between(450, max_date)) & (df_sub_trans.is_cancel == 1))\n",
    "df_sub_trans.loc[con, 'mem_expire_date'] = df_sub_trans.loc[con, 'trans_date'] \n",
    "\n",
    "# is_cancel = 0\n",
    "  # Clean up use:\n",
    "    # payment_plan_days not 0 --> expire = trans + plan_days_td\n",
    "    # payment_plan_days is 0 \n",
    "      # the  30 days case --> expire = trans + 30 days\n",
    "      # the 400 days case --> expire = trnas + 400 days\n",
    "\n",
    "\n",
    "# payment_plan_day not 0\n",
    "con = ((df_sub_trans.membership_int.between(450,max_date)) & (df_sub_trans.is_cancel == 0))\n",
    "not_0_plan_days = ~ (df_sub_trans.payment_plan_days.isin([0]))\n",
    "df_sub_trans.loc[con & not_0_plan_days,'mem_expire_date'] = df_sub_trans.loc[con & not_0_plan_days,'trans_date'] + \\\n",
    "df_sub_trans.loc[con & not_0_plan_days,'plan_days_td']\n",
    "\n",
    "# plan_days = 0 infer by actual_amount_paid\n",
    "# the 30 days case\n",
    "\n",
    "con = (df_sub_trans.payment_plan_days == 0) & (df_sub_trans.membership_int > 450)\n",
    "\n",
    "paid_30_days = df_sub_trans.actual_amount_paid.isin([100,119,129,149])\n",
    "df_sub_trans.loc[con & paid_30_days , 'mem_expire_date'] = \\\n",
    "df_sub_trans.loc[con & paid_30_days, 'trans_date'] + pd.Timedelta('30 days')\n",
    "\n",
    "# plan_days = 0 infer by actual_amount_paid\n",
    "# the 400 days case\n",
    "paid_400_days = df_sub_trans.actual_amount_paid.isin([1599])\n",
    "df_sub_trans.loc[con & paid_400_days , 'mem_expire_date'] = \\\n",
    "df_sub_trans.loc[con & paid_400_days, 'trans_date'] + pd.Timedelta('400 days')"
   ]
  },
  {
   "cell_type": "markdown",
   "metadata": {},
   "source": [
    "### Drop leaky predictor"
   ]
  },
  {
   "cell_type": "code",
   "execution_count": 36,
   "metadata": {},
   "outputs": [
    {
     "name": "stdout",
     "output_type": "stream",
     "text": [
      "(853747, 13)\n",
      "(0, 13)\n"
     ]
    }
   ],
   "source": [
    "print(df_train_trans[df_train_trans.trans_date > np.datetime64('2017-03-01')].shape)\n",
    "print(df_sub_trans[df_sub_trans.trans_date > np.datetime64('2017-04-01')].shape)"
   ]
  },
  {
   "cell_type": "code",
   "execution_count": 37,
   "metadata": {},
   "outputs": [
    {
     "name": "stdout",
     "output_type": "stream",
     "text": [
      "<class 'pandas.core.frame.DataFrame'>\n",
      "Int64Index: 13769249 entries, 8365578 to 3357563\n",
      "Data columns (total 13 columns):\n",
      "msno                  category\n",
      "is_churn              int8\n",
      "payment_method_id     int8\n",
      "payment_plan_days     int16\n",
      "plan_list_price       int16\n",
      "actual_amount_paid    int16\n",
      "is_auto_renew         int8\n",
      "trans_date            datetime64[ns]\n",
      "mem_expire_date       datetime64[ns]\n",
      "is_cancel             int8\n",
      "membership            timedelta64[ns]\n",
      "membership_int        float64\n",
      "plan_days_td          timedelta64[ns]\n",
      "dtypes: category(1), datetime64[ns](2), float64(1), int16(3), int8(4), timedelta64[ns](2)\n",
      "memory usage: 860.9 MB\n"
     ]
    }
   ],
   "source": [
    "df_train_trans = df_train_trans[ ~ (  df_train_trans.trans_date > np.datetime64('2017-03-01')  ) ]\n",
    "df_train_trans.info()"
   ]
  },
  {
   "cell_type": "markdown",
   "metadata": {},
   "source": [
    "## Features\n",
    "### Last_Last_churn"
   ]
  },
  {
   "cell_type": "code",
   "execution_count": 38,
   "metadata": {},
   "outputs": [],
   "source": [
    "def ll_churn(df):\n",
    "  # to avoid mistake by chance, let's sort first\n",
    "  # at the same time, groupby.cumsum has no argument about ascending, so it's necessary\n",
    "  \n",
    "  df = df.sort_values(by=['msno','trans_date'],ascending=True)\n",
    "  df['next_trans_after'] = df['trans_date'].shift(-1) - df['mem_expire_date']\n",
    "  df['the_same_user'] = df['msno'] == df['msno'].shift(-1)\n",
    "  \n",
    "  # 40 days allow more tolerance about churn\n",
    "  df['churn_record'] = (df['next_trans_after'] > pd.Timedelta('30 days')) & (df['the_same_user'] == True)\n",
    "  \n",
    "  # convert boolen to 1 and 0 \n",
    "  df['churn_record'] = df['churn_record']*1\n",
    "  \n",
    "  # sort_by expire_date\n",
    "  df = df.sort_values(by=['msno','mem_expire_date'],ascending=False)\n",
    "\n",
    "  # take out last_last_churn\n",
    "  ft = df.groupby(by=['msno'],as_index=False).nth(1)[['msno','churn_record']]\n",
    "  ft = ft.rename(columns={'churn_record':'last_last_churn'})\n",
    "  \n",
    "  return ft"
   ]
  },
  {
   "cell_type": "code",
   "execution_count": 39,
   "metadata": {},
   "outputs": [],
   "source": [
    "ft_last_last_churn_train = ll_churn(df_train_trans)\n",
    "ft_last_last_churn_sub = ll_churn(df_sub_trans)"
   ]
  },
  {
   "cell_type": "code",
   "execution_count": 40,
   "metadata": {},
   "outputs": [],
   "source": [
    "df_train = pd.merge(df_train,ft_last_last_churn_train,how='left',on=['msno']);\n",
    "df_sub = pd.merge(df_sub,ft_last_last_churn_train,how='left',on=['msno']);"
   ]
  },
  {
   "cell_type": "code",
   "execution_count": 41,
   "metadata": {},
   "outputs": [
    {
     "name": "stdout",
     "output_type": "stream",
     "text": [
      "______________________________ traning set ______________________________\n",
      "\n",
      "0.000     839107\n",
      "-1.000     36788\n",
      "1.000      10605\n",
      "Name: last_last_churn, dtype: int64\n",
      "______________________________ testing set ______________________________\n",
      "\n",
      "0.000     785602\n",
      "-1.000    117405\n",
      "1.000       4464\n",
      "Name: last_last_churn, dtype: int64\n"
     ]
    }
   ],
   "source": [
    "# only one trans_record does not have last_last_churn information\n",
    "df_train.last_last_churn = df_train.last_last_churn.fillna(-1)\n",
    "df_sub.last_last_churn = df_sub.last_last_churn.fillna(-1)\n",
    "print('_'*30, 'traning set', '_'*30)\n",
    "print(''*60)\n",
    "print(df_train.last_last_churn.value_counts())\n",
    "print('_'*30, 'testing set', '_'*30)\n",
    "print(''*60)\n",
    "print(df_sub.last_last_churn.value_counts())"
   ]
  },
  {
   "cell_type": "code",
   "execution_count": 42,
   "metadata": {},
   "outputs": [
    {
     "data": {
      "text/plain": [
       "<matplotlib.lines.Line2D at 0x7f5ccba17a90>"
      ]
     },
     "execution_count": 42,
     "metadata": {},
     "output_type": "execute_result"
    },
    {
     "data": {
      "image/png": "[encoded data removed]",
      "text/plain": [
       "<matplotlib.figure.Figure at 0x7f5e0200d6d8>"
      ]
     },
     "metadata": {},
     "output_type": "display_data"
    }
   ],
   "source": [
    "result_ll_churn = df_train.groupby([\"last_last_churn\"])['is_churn'].mean().reset_index().sort_values('is_churn')\n",
    "fig, ax = plt.subplots(figsize=(12,8))\n",
    "sns.barplot(x='last_last_churn', y='is_churn', data=df_train,ax=ax,order=result_ll_churn['last_last_churn'])\n",
    "ax.axhline(0.049,linestyle='dashed', c='black',alpha = .3)"
   ]
  },
  {
   "cell_type": "markdown",
   "metadata": {},
   "source": [
    "### Modeling"
   ]
  },
  {
   "cell_type": "code",
   "execution_count": 43,
   "metadata": {},
   "outputs": [
    {
     "name": "stdout",
     "output_type": "stream",
     "text": [
      "Index(['msno', 'is_churn', 'six_month_day_listen', 'six_month_satis', 'city',\n",
      "       'bd', 'gender', 'registered_via', 'registration_init_time',\n",
      "       'age_under_26', 'last_last_churn'],\n",
      "      dtype='object')\n",
      "Index(['msno', 'is_churn', 'six_month_day_listen', 'six_month_satis', 'city',\n",
      "       'bd', 'gender', 'registered_via', 'registration_init_time',\n",
      "       'age_under_26', 'last_last_churn'],\n",
      "      dtype='object')\n"
     ]
    }
   ],
   "source": [
    "# split and prepare features \n",
    "print(df_train.columns)\n",
    "print(df_sub.columns)\n",
    "ll_churn_fts = age_fts + ['last_last_churn']\n",
    "exclude_list = ['msno','is_churn']"
   ]
  },
  {
   "cell_type": "code",
   "execution_count": 49,
   "metadata": {},
   "outputs": [
    {
     "name": "stdout",
     "output_type": "stream",
     "text": [
      "training using features: \n",
      " ['six_month_day_listen', 'six_month_satis', 'registered_via', 'age_under_26', 'last_last_churn']\n",
      "[0]\tvalidation_0-logloss:0.628796\tvalidation_1-logloss:0.628753\n",
      "Multiple eval metrics have been passed: 'validation_1-logloss' will be used for early stopping.\n",
      "\n",
      "Will train until validation_1-logloss hasn't improved in 20 rounds.\n",
      "[70]\tvalidation_0-logloss:0.154979\tvalidation_1-logloss:0.153858\n",
      "[140]\tvalidation_0-logloss:0.1543\tvalidation_1-logloss:0.153465\n",
      "Stopping. Best iteration:\n",
      "[176]\tvalidation_0-logloss:0.154085\tvalidation_1-logloss:0.153411\n",
      "\n"
     ]
    }
   ],
   "source": [
    "print('training using features: \\n' ,[fts for fts in ll_churn_fts if fts not in exclude_list])\n",
    "ll_churn_model_xgb, ll_churn_val_score_xgb,\\\n",
    "ll_churn_pred_xgb = model_training_xgb(df_train[ll_churn_fts],df_sub[ll_churn_fts])"
   ]
  },
  {
   "cell_type": "code",
   "execution_count": 59,
   "metadata": {},
   "outputs": [
    {
     "name": "stdout",
     "output_type": "stream",
     "text": [
      "Copying file:///content/datalab/sub_ll_churn_xgb_pred.csv [Content-Type=text/csv]...\n",
      "\\ [1 files][ 49.1 MiB/ 49.1 MiB]                                                \n",
      "Operation completed over 1 objects/49.1 MiB.                                     \n",
      "age logloss val:  0.16151\n",
      "age logloss LB:  0.13161\n",
      "--------------------  + ll_churn --------------------\n",
      "ll_churn log_loss val :  0.15347\n",
      "ll_churn log_loss LB :  0.12698\n"
     ]
    }
   ],
   "source": [
    "ll_churn_pred_xgb.to_csv(\"/content/datalab/sub_ll_churn_xgb_pred.csv\", index=False)\n",
    "!gsutil cp '/content/datalab/sub_ll_churn_xgb_pred.csv' 'gs://kk_data/submission/sub_ll_churn_xgb_pred.csv';\n",
    "\n",
    "print('age logloss val: ',0.16151)\n",
    "print('age logloss LB: ',0.13161)\n",
    "print('-'*20,' + ll_churn','-'*20)\n",
    "print('ll_churn log_loss val : ',0.15347)\n",
    "print('ll_churn log_loss LB : ',0.12698)"
   ]
  },
  {
   "cell_type": "markdown",
   "metadata": {},
   "source": [
    "## Trans_times"
   ]
  },
  {
   "cell_type": "code",
   "execution_count": 44,
   "metadata": {},
   "outputs": [],
   "source": [
    "# Feature Engineering and merge\n",
    "ft_trans_times_train = df_train_trans[['msno','trans_date']].groupby(by=['msno'],as_index=False).count().\\\n",
    "rename(columns={'trans_date':'trans_times'});\n",
    "ft_trans_times_sub = df_sub_trans[['msno','trans_date']].groupby(by=['msno'],as_index=False).count().\\\n",
    "rename(columns={'trans_date':'trans_times'});\n",
    "df_train = pd.merge(df_train, ft_trans_times_train, how='left', on=['msno'])\n",
    "df_sub = pd.merge(df_sub, ft_trans_times_sub,how='left', on=['msno'])"
   ]
  },
  {
   "cell_type": "code",
   "execution_count": 45,
   "metadata": {},
   "outputs": [
    {
     "data": {
      "image/png": "[encoded data removed]",
      "text/plain": [
       "<matplotlib.figure.Figure at 0x7f5ccb9deeb8>"
      ]
     },
     "metadata": {},
     "output_type": "display_data"
    }
   ],
   "source": [
    "df_data = df_train.append(df_sub)\n",
    "sns.set(font_scale=1.56)\n",
    "# create fig and ax \n",
    "with sns.axes_style('white'):\n",
    "\n",
    "  fig, [ax1, ax2] = plt.subplots(1,2, figsize=(25,10))\n",
    "    \n",
    "  sns.distplot(df_data.loc[(df_data.is_churn == 0), 'trans_times'],kde=False, label='NOT_churn',ax=ax1,norm_hist=True)\n",
    "  sns.distplot(df_data.loc[(df_data.is_churn == 1), 'trans_times'],kde=False, label='churn',ax=ax1,norm_hist=True)\n",
    "  ax1.legend()\n",
    "  ax1.set_yscale('log')\n",
    "\n",
    "  # feature enineering\n",
    "  # New, Trying, OneYear, TwoYear, Stable\n",
    "  max_trans = df_data.trans_times.max()\n",
    "  bins = [0,1,6,12,24,max_trans]\n",
    "\n",
    "  # period = nodes - 1 --> labels = np.arange(len( bins) -1 )\n",
    "  df_data['client_level_code'] = pd.cut(df_data.trans_times, bins, labels= np.arange( len( bins) - 1 ) )\n",
    "  df_data['client_level_code'] = df_data['client_level_code'].astype('int8')\n",
    "\n",
    "  # prepare table (% of each value)\n",
    "  df_percent = pd.DataFrame( df_data['client_level_code'].value_counts().sort_index() / len(df_data) ).round(3) \n",
    "  # barplot of churn rate\n",
    "  sns.barplot(x='client_level_code',y='is_churn',data=df_data,ax=ax2)\n",
    "  ax2.axhline(0.049,linestyle='dashed', c='black',alpha = .3)\n",
    "  table(ax2, df_percent,bbox=[0.80, 0.72, 0.2, 0.27])"
   ]
  },
  {
   "cell_type": "markdown",
   "metadata": {},
   "source": [
    "### Modeling"
   ]
  },
  {
   "cell_type": "code",
   "execution_count": 46,
   "metadata": {},
   "outputs": [
    {
     "name": "stdout",
     "output_type": "stream",
     "text": [
      "Index(['msno', 'is_churn', 'six_month_day_listen', 'six_month_satis', 'city',\n",
      "       'bd', 'gender', 'registered_via', 'registration_init_time',\n",
      "       'age_under_26', 'last_last_churn', 'trans_times', 'client_level_code'],\n",
      "      dtype='object')\n",
      "Index(['msno', 'is_churn', 'six_month_day_listen', 'six_month_satis', 'city',\n",
      "       'bd', 'gender', 'registered_via', 'registration_init_time',\n",
      "       'age_under_26', 'last_last_churn', 'trans_times', 'client_level_code'],\n",
      "      dtype='object')\n"
     ]
    }
   ],
   "source": [
    "# split and prepare features \n",
    "df_train, df_sub = df_data[:len(df_train)], df_data[len(df_train):]\n",
    "print(df_train.columns)\n",
    "print(df_sub.columns)\n",
    "client_level_code_fts = ll_churn_fts + ['client_level_code']\n",
    "exclude_list = ['msno','is_churn']"
   ]
  },
  {
   "cell_type": "code",
   "execution_count": 58,
   "metadata": {},
   "outputs": [
    {
     "name": "stdout",
     "output_type": "stream",
     "text": [
      "training using features: \n",
      " ['six_month_day_listen', 'six_month_satis', 'registered_via', 'age_under_26', 'last_last_churn', 'client_level_code']\n",
      "[0]\tvalidation_0-logloss:0.628704\tvalidation_1-logloss:0.628661\n",
      "Multiple eval metrics have been passed: 'validation_1-logloss' will be used for early stopping.\n",
      "\n",
      "Will train until validation_1-logloss hasn't improved in 20 rounds.\n",
      "[70]\tvalidation_0-logloss:0.151849\tvalidation_1-logloss:0.150657\n",
      "[140]\tvalidation_0-logloss:0.150828\tvalidation_1-logloss:0.149909\n",
      "Stopping. Best iteration:\n",
      "[189]\tvalidation_0-logloss:0.150505\tvalidation_1-logloss:0.149826\n",
      "\n"
     ]
    }
   ],
   "source": [
    "print('training using features: \\n' ,[fts for fts in client_level_code_fts if fts not in exclude_list])\n",
    "client_level_code_model_xgb, client_level_code_val_score_xgb,\\\n",
    "client_level_code_pred_xgb = model_training_xgb(df_train[client_level_code_fts],df_sub[client_level_code_fts])"
   ]
  },
  {
   "cell_type": "code",
   "execution_count": 116,
   "metadata": {},
   "outputs": [
    {
     "name": "stdout",
     "output_type": "stream",
     "text": [
      "Copying file:///content/datalab/sub_client_level_code_xgb_pred.csv [Content-Type=text/csv]...\n",
      "- [1 files][ 49.0 MiB/ 49.0 MiB]                                                \n",
      "Operation completed over 1 objects/49.0 MiB.                                     \n",
      "last_last_churn logloss val:  0.15347\n",
      "last_last_churn logloss LB:  0.12698\n",
      "--------------------  + client_level_code --------------------\n",
      "client_level_code log_loss val :  0.14982\n",
      "client_level_code log_loss LB :  0.12463\n"
     ]
    }
   ],
   "source": [
    "client_level_code_pred_xgb.to_csv(\"/content/datalab/sub_client_level_code_xgb_pred.csv\", index=False)\n",
    "!gsutil cp '/content/datalab/sub_client_level_code_xgb_pred.csv' 'gs://kk_data/submission/sub_client_level_code_xgb_pred.csv';\n",
    "\n",
    "print('last_last_churn logloss val: ',0.15347)\n",
    "print('last_last_churn logloss LB: ',0.12698)\n",
    "print('-'*20,' + client_level_code','-'*20)\n",
    "print('client_level_code log_loss val : ',0.14982)\n",
    "print('client_level_code log_loss LB : ',0.12463)"
   ]
  },
  {
   "cell_type": "markdown",
   "metadata": {},
   "source": [
    "## Auto_renew explore"
   ]
  },
  {
   "cell_type": "code",
   "execution_count": 47,
   "metadata": {},
   "outputs": [],
   "source": [
    "# since cumsum does not support ascending = False, we resort our data with mem_expire_date first\n",
    "# need to fix sort_problem\n",
    "df_train_trans = df_train_trans.sort_values(by=['msno'],ascending=False).sort_values(by=['mem_expire_date'],ascending=True)\n",
    "# apply function groupby.cumsum()\n",
    "df_train_trans['auto_renew_so_far'] = df_train_trans.groupby(by=['msno'],as_index=False)['is_auto_renew'].cumsum()\n",
    "# resort with latest expire_date first\n",
    "df_train_trans.sort_values(by=['msno','mem_expire_date'],ascending=False,inplace=True);\n",
    "# since cumcount start at 0, we plus one for adjusting\n",
    "df_train_trans['trans_times_so_far'] = df_train_trans.groupby(by=['msno'],as_index=False)['is_auto_renew'].cumcount(ascending=False) + 1"
   ]
  },
  {
   "cell_type": "code",
   "execution_count": 48,
   "metadata": {},
   "outputs": [
    {
     "name": "stderr",
     "output_type": "stream",
     "text": [
      "/usr/local/envs/py3env/lib/python3.5/site-packages/pandas/core/computation/eval.py:321: SettingWithCopyWarning: \n",
      "A value is trying to be set on a copy of a slice from a DataFrame.\n",
      "Try using .loc[row_indexer,col_indexer] = value instead\n",
      "\n",
      "See the caveats in the documentation: http://pandas.pydata.org/pandas-docs/stable/indexing.html#indexing-view-versus-copy\n",
      "  target[parsed_expr.assigner] = ret\n"
     ]
    }
   ],
   "source": [
    "agg_result = df_train_trans.groupby(by=['msno'],as_index=False).head(1)\n",
    "agg_result.eval('ratio_auto_renew = auto_renew_so_far / trans_times_so_far', inplace=True);"
   ]
  },
  {
   "cell_type": "code",
   "execution_count": 49,
   "metadata": {},
   "outputs": [
    {
     "name": "stdout",
     "output_type": "stream",
     "text": [
      "ratio of All auto_renew:0.808\n",
      "ratio of All manual_renew:0.109\n",
      "ratio of Mix manual&auto renew:0.084\n",
      "All_auto_renew churn_rate: 0.013\n",
      "All_manual_renew churn_rate: 0.287\n"
     ]
    },
    {
     "data": {
      "image/png": "[encoded data removed]",
      "text/plain": [
       "<matplotlib.figure.Figure at 0x7f5dfaba4cc0>"
      ]
     },
     "metadata": {},
     "output_type": "display_data"
    }
   ],
   "source": [
    "fig, ax = plt.subplots(figsize=(20,8))\n",
    "sns.distplot(agg_result.ratio_auto_renew,kde=False,ax=ax)\n",
    "ax.set_yscale('squareroot')\n",
    "print('ratio of All auto_renew:%.3f'%((agg_result.ratio_auto_renew == 1 ).sum() / len(agg_result)))\n",
    "print('ratio of All manual_renew:%.3f'%((agg_result.ratio_auto_renew == 0 ).sum() / len(agg_result)))\n",
    "print('ratio of Mix manual&auto renew:%.3f'%(( (agg_result.ratio_auto_renew < 1) & (agg_result.ratio_auto_renew > 0) ).sum() / len(agg_result)))\n",
    "print('All_auto_renew churn_rate: %.3f' %(agg_result.query('ratio_auto_renew == 1').is_churn.mean()) )\n",
    "print('All_manual_renew churn_rate: %.3f' %(agg_result.query('ratio_auto_renew == 0').is_churn.mean()) )"
   ]
  },
  {
   "cell_type": "markdown",
   "metadata": {},
   "source": [
    "## Last_auto_renew"
   ]
  },
  {
   "cell_type": "code",
   "execution_count": 50,
   "metadata": {},
   "outputs": [],
   "source": [
    "# Feature Engineering\n",
    "# for safe, sorted first\n",
    "df_train_trans = df_train_trans.sort_values(by=['msno','mem_expire_date'],ascending=False)\n",
    "df_sub_trans = df_sub_trans.sort_values(by=['msno','mem_expire_date'],ascending=False)\n",
    "ft_last_auto_renew_train = df_train_trans[['msno','is_auto_renew']].groupby(by=['msno'],as_index=False).head(1)\n",
    "ft_last_auto_renew_sub = df_sub_trans[['msno','is_auto_renew']].groupby(by=['msno'],as_index=False).head(1)\n",
    "# feature rename\n",
    "ft_last_auto_renew_train.rename(columns={'is_auto_renew':'last_auto_renew'}, inplace=True)\n",
    "ft_last_auto_renew_sub.rename(columns={'is_auto_renew':'last_auto_renew'}, inplace=True)"
   ]
  },
  {
   "cell_type": "code",
   "execution_count": 51,
   "metadata": {},
   "outputs": [],
   "source": [
    "df_train = pd.merge(df_train,ft_last_auto_renew_train,how='left',on=['msno'])\n",
    "df_sub = pd.merge(df_sub,ft_last_auto_renew_sub,how='left',on=['msno'])"
   ]
  },
  {
   "cell_type": "code",
   "execution_count": 52,
   "metadata": {},
   "outputs": [
    {
     "data": {
      "image/png": "[encoded data removed]",
      "text/plain": [
       "<matplotlib.figure.Figure at 0x7f5dfab9bef0>"
      ]
     },
     "metadata": {},
     "output_type": "display_data"
    }
   ],
   "source": [
    "with sns.axes_style('white'):\n",
    "  fig, ax = plt.subplots(figsize= (12,8) )\n",
    "# prepare table (% of each value)\n",
    "  df_percent = pd.DataFrame( df_train['last_auto_renew'].value_counts().sort_index() / len(df_train) ).round(3) \n",
    "# barplot with percent table\n",
    "  sns.barplot(x='last_auto_renew',y='is_churn',data=df_train,ax=ax)\n",
    "  ax.axhline(0.049,linestyle='dashed', c='black',alpha = .3)\n",
    "  table(ax, df_percent,bbox=[0.80, 0.72, 0.2, 0.27])"
   ]
  },
  {
   "cell_type": "markdown",
   "metadata": {},
   "source": [
    "### Modeling"
   ]
  },
  {
   "cell_type": "code",
   "execution_count": 53,
   "metadata": {},
   "outputs": [
    {
     "name": "stdout",
     "output_type": "stream",
     "text": [
      "Index(['msno', 'is_churn', 'six_month_day_listen', 'six_month_satis', 'city',\n",
      "       'bd', 'gender', 'registered_via', 'registration_init_time',\n",
      "       'age_under_26', 'last_last_churn', 'trans_times', 'client_level_code',\n",
      "       'last_auto_renew'],\n",
      "      dtype='object')\n",
      "Index(['msno', 'is_churn', 'six_month_day_listen', 'six_month_satis', 'city',\n",
      "       'bd', 'gender', 'registered_via', 'registration_init_time',\n",
      "       'age_under_26', 'last_last_churn', 'trans_times', 'client_level_code',\n",
      "       'last_auto_renew'],\n",
      "      dtype='object')\n"
     ]
    }
   ],
   "source": [
    "# split and prepare features \n",
    "print(df_train.columns)\n",
    "print(df_sub.columns)\n",
    "last_auto_renew_fts = client_level_code_fts + ['last_auto_renew']\n",
    "exclude_list = ['msno','is_churn']"
   ]
  },
  {
   "cell_type": "code",
   "execution_count": 126,
   "metadata": {},
   "outputs": [
    {
     "name": "stdout",
     "output_type": "stream",
     "text": [
      "training using features: \n",
      " ['six_month_day_listen', 'six_month_satis', 'registered_via', 'age_under_26', 'last_last_churn', 'client_level_code', 'last_auto_renew']\n",
      "[0]\tvalidation_0-logloss:0.627506\tvalidation_1-logloss:0.627476\n",
      "Multiple eval metrics have been passed: 'validation_1-logloss' will be used for early stopping.\n",
      "\n",
      "Will train until validation_1-logloss hasn't improved in 20 rounds.\n",
      "[70]\tvalidation_0-logloss:0.136075\tvalidation_1-logloss:0.134804\n",
      "[140]\tvalidation_0-logloss:0.135153\tvalidation_1-logloss:0.134214\n",
      "Stopping. Best iteration:\n",
      "[146]\tvalidation_0-logloss:0.13511\tvalidation_1-logloss:0.134193\n",
      "\n"
     ]
    }
   ],
   "source": [
    "print('training using features: \\n' ,[fts for fts in last_auto_renew_fts if fts not in exclude_list])\n",
    "last_auto_renew_model_xgb, last_auto_renew_val_score_xgb,\\\n",
    "last_auto_renew_pred_xgb = model_training_xgb(df_train[last_auto_renew_fts],df_sub[last_auto_renew_fts])"
   ]
  },
  {
   "cell_type": "code",
   "execution_count": 133,
   "metadata": {},
   "outputs": [
    {
     "name": "stdout",
     "output_type": "stream",
     "text": [
      "Copying file:///content/datalab/sub_last_auto_renew_xgb_pred.csv [Content-Type=text/csv]...\n",
      "\\ [1 files][ 49.2 MiB/ 49.2 MiB]                                                \n",
      "Operation completed over 1 objects/49.2 MiB.                                     \n",
      "client_level_code logloss val:  0.14982\n",
      "client_level_code logloss LB:  0.12463\n",
      "--------------------  + last_auto_renew --------------------\n",
      "last_auto_renew log_loss val :  0.13419\n",
      "last_auto_renew log_loss LB :  0.11617\n"
     ]
    }
   ],
   "source": [
    "last_auto_renew_pred_xgb.to_csv(\"/content/datalab/sub_last_auto_renew_xgb_pred.csv\", index=False)\n",
    "!gsutil cp '/content/datalab/sub_last_auto_renew_xgb_pred.csv' 'gs://kk_data/submission/sub_last_auto_renew_xgb_pred.csv';\n",
    "\n",
    "print('client_level_code logloss val: ',0.14982)\n",
    "print('client_level_code logloss LB: ',0.12463)\n",
    "print('-'*20,' + last_auto_renew','-'*20)\n",
    "print('last_auto_renew log_loss val : ',0.13419)\n",
    "print('last_auto_renew log_loss LB : ',0.11617)"
   ]
  },
  {
   "cell_type": "markdown",
   "metadata": {},
   "source": [
    "## One_month_day_listen"
   ]
  },
  {
   "cell_type": "code",
   "execution_count": 94,
   "metadata": {},
   "outputs": [],
   "source": [
    "%bq query -n query\n",
    "-- one_month_day_listen CTE\n",
    "WITH features AS (\n",
    "                   SELECT  msno AS msno , COUNT(msno) AS one_month_day_listen\n",
    "                   FROM `kkbox-210108.kk_Data.user_logs`\n",
    "                   WHERE date > 20170201 AND date < 20170228 \n",
    "                   GROUP BY msno)\n",
    "SELECT train.msno, features.one_month_day_listen\n",
    "FROM `kkbox-210108.kk_Data.user_label_201703` AS train\n",
    "LEFT JOIN features \n",
    "        ON   train.msno = features.msno "
   ]
  },
  {
   "cell_type": "code",
   "execution_count": 95,
   "metadata": {},
   "outputs": [
    {
     "data": {
      "text/html": [
       "\n",
       "    <p>Dry run information:    22GB to process, results not cached</p>\n",
       "    "
      ],
      "text/plain": [
       "<google.datalab.bigquery._query_stats.QueryStats at 0x7f03dee66eb8>"
      ]
     },
     "execution_count": 95,
     "metadata": {},
     "output_type": "execute_result"
    }
   ],
   "source": [
    "%bq dryrun -q query"
   ]
  },
  {
   "cell_type": "code",
   "execution_count": 96,
   "metadata": {},
   "outputs": [
    {
     "data": {
      "text/plain": [
       "Job kkbox-210108/job_RrvxlAMHbMBQzw4PHnBhOK0t7rBj completed"
      ]
     },
     "execution_count": 96,
     "metadata": {},
     "output_type": "execute_result"
    }
   ],
   "source": [
    "%bq extract -f csv -H -p 'gs://kk_data/ft_one_month_day_listen.csv' -q query --verbose"
   ]
  },
  {
   "cell_type": "code",
   "execution_count": 84,
   "metadata": {},
   "outputs": [],
   "source": [
    "%bq query -n query\n",
    "WITH features AS (\n",
    "                   SELECT  msno AS msno , COUNT(msno) AS one_month_day_listen\n",
    "                   FROM `kkbox-210108.kk_Data.user_logs`\n",
    "                   WHERE date > 20170301 AND date < 20170331 \n",
    "                   GROUP BY msno)\n",
    "SELECT sub.msno, features.one_month_day_listen\n",
    "FROM `kkbox-210108.kk_Data.submission` AS sub\n",
    "LEFT JOIN features \n",
    "        ON   sub.msno = features.msno "
   ]
  },
  {
   "cell_type": "code",
   "execution_count": 85,
   "metadata": {},
   "outputs": [
    {
     "data": {
      "text/html": [
       "\n",
       "    <p>Dry run information:    22GB to process, results not cached</p>\n",
       "    "
      ],
      "text/plain": [
       "<google.datalab.bigquery._query_stats.QueryStats at 0x7f03dee6d550>"
      ]
     },
     "execution_count": 85,
     "metadata": {},
     "output_type": "execute_result"
    }
   ],
   "source": [
    "%bq dryrun -q query"
   ]
  },
  {
   "cell_type": "code",
   "execution_count": 86,
   "metadata": {},
   "outputs": [
    {
     "data": {
      "text/plain": [
       "Job kkbox-210108/job_ZJehuBDelI66s00N6yvn0pmJb6Jt completed"
      ]
     },
     "execution_count": 86,
     "metadata": {},
     "output_type": "execute_result"
    }
   ],
   "source": [
    "%bq extract -f csv -H -p 'gs://kk_data/sub_ft_one_month_day_listen.csv' -q query --verbose"
   ]
  },
  {
   "cell_type": "code",
   "execution_count": 54,
   "metadata": {},
   "outputs": [],
   "source": [
    "%gcs read --object gs://kk_data/ft_one_month_day_listen.csv -v df_one_month_day_listen"
   ]
  },
  {
   "cell_type": "code",
   "execution_count": 55,
   "metadata": {},
   "outputs": [],
   "source": [
    "%gcs read --object gs://kk_data/sub_ft_one_month_day_listen.csv -v df_sub_ft_one_month_day_listen"
   ]
  },
  {
   "cell_type": "code",
   "execution_count": 56,
   "metadata": {},
   "outputs": [],
   "source": [
    "ft_train_one_month_day_listen = pd.read_csv(StringIO(df_one_month_day_listen))\n",
    "ft_sub_one_month_day_listen = pd.read_csv(StringIO(df_sub_ft_one_month_day_listen))"
   ]
  },
  {
   "cell_type": "code",
   "execution_count": 57,
   "metadata": {},
   "outputs": [],
   "source": [
    "df_train = pd.merge(df_train, ft_train_one_month_day_listen, how='left',on=['msno'])\n",
    "df_sub = pd.merge(df_sub, ft_sub_one_month_day_listen, how='left',on=['msno'])"
   ]
  },
  {
   "cell_type": "code",
   "execution_count": 58,
   "metadata": {},
   "outputs": [
    {
     "data": {
      "text/plain": [
       "<matplotlib.legend.Legend at 0x7f5da3e5f2b0>"
      ]
     },
     "execution_count": 58,
     "metadata": {},
     "output_type": "execute_result"
    },
    {
     "data": {
      "image/png": "[encoded data removed]",
      "text/plain": [
       "<matplotlib.figure.Figure at 0x7f5d48e06c18>"
      ]
     },
     "metadata": {},
     "output_type": "display_data"
    }
   ],
   "source": [
    "df_train['one_month_day_listen'] = df_train['one_month_day_listen'].fillna(-1)\n",
    "df_sub['one_month_day_listen'] = df_sub['one_month_day_listen'].fillna(-1)\n",
    "fig, ax = plt.subplots( figsize=(20,8) )\n",
    "churn = (df_train['one_month_day_listen'] > 0) & (df_train.is_churn == 1)\n",
    "NOT_churn = (df_train['one_month_day_listen'] > 0) & (df_train.is_churn == 0)\n",
    "bins=25\n",
    "sns.distplot(df_train.loc[churn,'one_month_day_listen'],kde=False,norm_hist=True,label='churn',ax=ax,bins=bins)\n",
    "sns.distplot(df_train.loc[NOT_churn,'one_month_day_listen'],kde=False,norm_hist=True,label='NOT_churn',ax=ax,bins=bins)\n",
    "ax.legend()"
   ]
  },
  {
   "cell_type": "markdown",
   "metadata": {},
   "source": [
    "### Modeling"
   ]
  },
  {
   "cell_type": "code",
   "execution_count": 59,
   "metadata": {},
   "outputs": [
    {
     "name": "stdout",
     "output_type": "stream",
     "text": [
      "Index(['msno', 'is_churn', 'six_month_day_listen', 'six_month_satis', 'city',\n",
      "       'bd', 'gender', 'registered_via', 'registration_init_time',\n",
      "       'age_under_26', 'last_last_churn', 'trans_times', 'client_level_code',\n",
      "       'last_auto_renew', 'one_month_day_listen'],\n",
      "      dtype='object')\n",
      "Index(['msno', 'is_churn', 'six_month_day_listen', 'six_month_satis', 'city',\n",
      "       'bd', 'gender', 'registered_via', 'registration_init_time',\n",
      "       'age_under_26', 'last_last_churn', 'trans_times', 'client_level_code',\n",
      "       'last_auto_renew', 'one_month_day_listen'],\n",
      "      dtype='object')\n"
     ]
    }
   ],
   "source": [
    "print(df_train.columns)\n",
    "print(df_sub.columns)\n",
    "one_month_day_listen_fts = last_auto_renew_fts + ['one_month_day_listen']\n",
    "exclude_list = ['msno','is_churn']"
   ]
  },
  {
   "cell_type": "code",
   "execution_count": 61,
   "metadata": {},
   "outputs": [
    {
     "name": "stdout",
     "output_type": "stream",
     "text": [
      "training using features: \n",
      " ['six_month_day_listen', 'six_month_satis', 'registered_via', 'age_under_26', 'last_last_churn', 'client_level_code', 'last_auto_renew', 'one_month_day_listen']\n",
      "[0]\tvalidation_0-logloss:0.627331\tvalidation_1-logloss:0.627325\n",
      "Multiple eval metrics have been passed: 'validation_1-logloss' will be used for early stopping.\n",
      "\n",
      "Will train until validation_1-logloss hasn't improved in 20 rounds.\n",
      "[70]\tvalidation_0-logloss:0.133955\tvalidation_1-logloss:0.132867\n",
      "[140]\tvalidation_0-logloss:0.133009\tvalidation_1-logloss:0.132214\n",
      "Stopping. Best iteration:\n",
      "[175]\tvalidation_0-logloss:0.132772\tvalidation_1-logloss:0.132154\n",
      "\n"
     ]
    }
   ],
   "source": [
    "print('training using features: \\n' ,[fts for fts in one_month_day_listen_fts if fts not in exclude_list])\n",
    "one_month_day_listen_model_xgb, one_month_day_listen_val_score_xgb,\\\n",
    "one_month_day_listen_pred_xgb = model_training_xgb(df_train[one_month_day_listen_fts],df_sub[one_month_day_listen_fts])"
   ]
  },
  {
   "cell_type": "code",
   "execution_count": 134,
   "metadata": {},
   "outputs": [
    {
     "name": "stdout",
     "output_type": "stream",
     "text": [
      "Copying file:///content/datalab/sub_one_month_day_listen_xgb_pred.csv [Content-Type=text/csv]...\n",
      "- [1 files][ 49.2 MiB/ 49.2 MiB]                                                \n",
      "Operation completed over 1 objects/49.2 MiB.                                     \n",
      "last_auto_renew logloss val:  0.13419\n",
      "last_auto_renew logloss LB:  0.11617\n",
      "--------------------  + one_month_day_listen --------------------\n",
      "one_month_day_listen log_loss val :  0.13215\n",
      "one_month_day_listen log_loss LB :  0.11335\n"
     ]
    }
   ],
   "source": [
    "one_month_day_listen_pred_xgb.to_csv(\"/content/datalab/sub_one_month_day_listen_xgb_pred.csv\", index=False)\n",
    "!gsutil cp '/content/datalab/sub_one_month_day_listen_xgb_pred.csv' 'gs://kk_data/submission/sub_one_month_day_listen_xgb_pred.csv';\n",
    "\n",
    "print('last_auto_renew logloss val: ',0.13419)\n",
    "print('last_auto_renew logloss LB: ',0.11617)\n",
    "print('-'*20,' + one_month_day_listen','-'*20)\n",
    "print('one_month_day_listen log_loss val : ',0.13215)\n",
    "print('one_month_day_listen log_loss LB : ',0.11335)"
   ]
  },
  {
   "cell_type": "markdown",
   "metadata": {},
   "source": [
    "## Permutation Testing"
   ]
  },
  {
   "cell_type": "code",
   "execution_count": 65,
   "metadata": {},
   "outputs": [],
   "source": [
    "import eli5"
   ]
  },
  {
   "cell_type": "code",
   "execution_count": 60,
   "metadata": {},
   "outputs": [
    {
     "name": "stdout",
     "output_type": "stream",
     "text": [
      "[0]\tvalidation_0-logloss:0.627331\tvalidation_1-logloss:0.627325\n",
      "Multiple eval metrics have been passed: 'validation_1-logloss' will be used for early stopping.\n",
      "\n",
      "Will train until validation_1-logloss hasn't improved in 20 rounds.\n",
      "[70]\tvalidation_0-logloss:0.133999\tvalidation_1-logloss:0.132919\n",
      "[140]\tvalidation_0-logloss:0.132996\tvalidation_1-logloss:0.132251\n",
      "[210]\tvalidation_0-logloss:0.132521\tvalidation_1-logloss:0.132141\n",
      "Stopping. Best iteration:\n",
      "[194]\tvalidation_0-logloss:0.132622\tvalidation_1-logloss:0.132135\n",
      "\n"
     ]
    }
   ],
   "source": [
    "training_data, testing_data = df_train[one_month_day_listen_fts], df_sub[one_month_day_listen_fts]\n",
    "# splits train and validation set\n",
    "X = training_data.drop(labels=['msno','is_churn'],axis=1)\n",
    "Y = training_data['is_churn']\n",
    "X_train, X_val, Y_train, Y_val = train_test_split(X, Y, test_size=0.2,random_state = 2)\n",
    "\n",
    "# model\n",
    "xgb_watchlist = [(X_train, Y_train), (X_val, Y_val)]\n",
    "model = xgb.XGBClassifier(learning_rate=0.08, max_depth=4,n_estimators=300,\\\n",
    "                 subsample=0.5, seed=2,missing=-1)\n",
    "model.fit(X_train, Y_train,eval_set=xgb_watchlist,eval_metric='logloss',\n",
    "            early_stopping_rounds=20,verbose=70)\n",
    "# caculating E_val\n",
    "\n",
    "model_probs = model.predict_proba(X_val)\n",
    "    # [:,1] to show the prob to is_churn = 1\n",
    "model_val_score = log_loss(Y_val,model_probs[:,1])\n",
    "  \n",
    "# predict on testing set\n",
    "model_pred_testing_set = model.predict_proba(testing_data.drop(labels=['msno','is_churn'],axis=1))\n",
    "model_pred_testing_set = model_pred_testing_set[:,1] # take out the prob if is_churn = 1\n",
    "submission = pd.DataFrame({\"msno\": testing_data.msno})\n",
    "submission.insert(1,column='is_churn',value=model_pred_testing_set)\n",
    "  \n",
    "#  return model, model_val_score, submission"
   ]
  },
  {
   "cell_type": "code",
   "execution_count": 61,
   "metadata": {},
   "outputs": [],
   "source": [
    "from eli5.sklearn import PermutationImportance"
   ]
  },
  {
   "cell_type": "code",
   "execution_count": 62,
   "metadata": {},
   "outputs": [
    {
     "data": {
      "text/plain": [
       "pandas.core.frame.DataFrame"
      ]
     },
     "execution_count": 62,
     "metadata": {},
     "output_type": "execute_result"
    }
   ],
   "source": [
    "type(X_train)"
   ]
  },
  {
   "cell_type": "code",
   "execution_count": 67,
   "metadata": {},
   "outputs": [
    {
     "name": "stdout",
     "output_type": "stream",
     "text": [
      "<class 'numpy.ndarray'>\n",
      "[0]\tvalidation_0-logloss:0.627331\tvalidation_1-logloss:0.627325\n",
      "Multiple eval metrics have been passed: 'validation_1-logloss' will be used for early stopping.\n",
      "\n",
      "Will train until validation_1-logloss hasn't improved in 20 rounds.\n",
      "[70]\tvalidation_0-logloss:0.133999\tvalidation_1-logloss:0.132919\n",
      "[140]\tvalidation_0-logloss:0.132996\tvalidation_1-logloss:0.132251\n",
      "[210]\tvalidation_0-logloss:0.132521\tvalidation_1-logloss:0.132141\n",
      "Stopping. Best iteration:\n",
      "[194]\tvalidation_0-logloss:0.132622\tvalidation_1-logloss:0.132135\n",
      "\n"
     ]
    },
    {
     "name": "stderr",
     "output_type": "stream",
     "text": [
      "/usr/local/envs/py3env/lib/python3.5/site-packages/sklearn/preprocessing/label.py:151: DeprecationWarning: The truth value of an empty array is ambiguous. Returning False, but in future this will result in an error. Use `array.size > 0` to check that an array is not empty.\n",
      "  if diff:\n",
      "/usr/local/envs/py3env/lib/python3.5/site-packages/sklearn/preprocessing/label.py:151: DeprecationWarning: The truth value of an empty array is ambiguous. Returning False, but in future this will result in an error. Use `array.size > 0` to check that an array is not empty.\n",
      "  if diff:\n",
      "/usr/local/envs/py3env/lib/python3.5/site-packages/sklearn/preprocessing/label.py:151: DeprecationWarning: The truth value of an empty array is ambiguous. Returning False, but in future this will result in an error. Use `array.size > 0` to check that an array is not empty.\n",
      "  if diff:\n",
      "/usr/local/envs/py3env/lib/python3.5/site-packages/sklearn/preprocessing/label.py:151: DeprecationWarning: The truth value of an empty array is ambiguous. Returning False, but in future this will result in an error. Use `array.size > 0` to check that an array is not empty.\n",
      "  if diff:\n",
      "/usr/local/envs/py3env/lib/python3.5/site-packages/sklearn/preprocessing/label.py:151: DeprecationWarning: The truth value of an empty array is ambiguous. Returning False, but in future this will result in an error. Use `array.size > 0` to check that an array is not empty.\n",
      "  if diff:\n",
      "/usr/local/envs/py3env/lib/python3.5/site-packages/sklearn/preprocessing/label.py:151: DeprecationWarning: The truth value of an empty array is ambiguous. Returning False, but in future this will result in an error. Use `array.size > 0` to check that an array is not empty.\n",
      "  if diff:\n",
      "/usr/local/envs/py3env/lib/python3.5/site-packages/sklearn/preprocessing/label.py:151: DeprecationWarning: The truth value of an empty array is ambiguous. Returning False, but in future this will result in an error. Use `array.size > 0` to check that an array is not empty.\n",
      "  if diff:\n",
      "/usr/local/envs/py3env/lib/python3.5/site-packages/sklearn/preprocessing/label.py:151: DeprecationWarning: The truth value of an empty array is ambiguous. Returning False, but in future this will result in an error. Use `array.size > 0` to check that an array is not empty.\n",
      "  if diff:\n",
      "/usr/local/envs/py3env/lib/python3.5/site-packages/sklearn/preprocessing/label.py:151: DeprecationWarning: The truth value of an empty array is ambiguous. Returning False, but in future this will result in an error. Use `array.size > 0` to check that an array is not empty.\n",
      "  if diff:\n",
      "/usr/local/envs/py3env/lib/python3.5/site-packages/sklearn/preprocessing/label.py:151: DeprecationWarning: The truth value of an empty array is ambiguous. Returning False, but in future this will result in an error. Use `array.size > 0` to check that an array is not empty.\n",
      "  if diff:\n",
      "/usr/local/envs/py3env/lib/python3.5/site-packages/sklearn/preprocessing/label.py:151: DeprecationWarning: The truth value of an empty array is ambiguous. Returning False, but in future this will result in an error. Use `array.size > 0` to check that an array is not empty.\n",
      "  if diff:\n",
      "/usr/local/envs/py3env/lib/python3.5/site-packages/sklearn/preprocessing/label.py:151: DeprecationWarning: The truth value of an empty array is ambiguous. Returning False, but in future this will result in an error. Use `array.size > 0` to check that an array is not empty.\n",
      "  if diff:\n",
      "/usr/local/envs/py3env/lib/python3.5/site-packages/sklearn/preprocessing/label.py:151: DeprecationWarning: The truth value of an empty array is ambiguous. Returning False, but in future this will result in an error. Use `array.size > 0` to check that an array is not empty.\n",
      "  if diff:\n",
      "/usr/local/envs/py3env/lib/python3.5/site-packages/sklearn/preprocessing/label.py:151: DeprecationWarning: The truth value of an empty array is ambiguous. Returning False, but in future this will result in an error. Use `array.size > 0` to check that an array is not empty.\n",
      "  if diff:\n",
      "/usr/local/envs/py3env/lib/python3.5/site-packages/sklearn/preprocessing/label.py:151: DeprecationWarning: The truth value of an empty array is ambiguous. Returning False, but in future this will result in an error. Use `array.size > 0` to check that an array is not empty.\n",
      "  if diff:\n",
      "/usr/local/envs/py3env/lib/python3.5/site-packages/sklearn/preprocessing/label.py:151: DeprecationWarning: The truth value of an empty array is ambiguous. Returning False, but in future this will result in an error. Use `array.size > 0` to check that an array is not empty.\n",
      "  if diff:\n",
      "/usr/local/envs/py3env/lib/python3.5/site-packages/sklearn/preprocessing/label.py:151: DeprecationWarning: The truth value of an empty array is ambiguous. Returning False, but in future this will result in an error. Use `array.size > 0` to check that an array is not empty.\n",
      "  if diff:\n",
      "/usr/local/envs/py3env/lib/python3.5/site-packages/sklearn/preprocessing/label.py:151: DeprecationWarning: The truth value of an empty array is ambiguous. Returning False, but in future this will result in an error. Use `array.size > 0` to check that an array is not empty.\n",
      "  if diff:\n",
      "/usr/local/envs/py3env/lib/python3.5/site-packages/sklearn/preprocessing/label.py:151: DeprecationWarning: The truth value of an empty array is ambiguous. Returning False, but in future this will result in an error. Use `array.size > 0` to check that an array is not empty.\n",
      "  if diff:\n",
      "/usr/local/envs/py3env/lib/python3.5/site-packages/sklearn/preprocessing/label.py:151: DeprecationWarning: The truth value of an empty array is ambiguous. Returning False, but in future this will result in an error. Use `array.size > 0` to check that an array is not empty.\n",
      "  if diff:\n",
      "/usr/local/envs/py3env/lib/python3.5/site-packages/sklearn/preprocessing/label.py:151: DeprecationWarning: The truth value of an empty array is ambiguous. Returning False, but in future this will result in an error. Use `array.size > 0` to check that an array is not empty.\n",
      "  if diff:\n",
      "/usr/local/envs/py3env/lib/python3.5/site-packages/sklearn/preprocessing/label.py:151: DeprecationWarning: The truth value of an empty array is ambiguous. Returning False, but in future this will result in an error. Use `array.size > 0` to check that an array is not empty.\n",
      "  if diff:\n",
      "/usr/local/envs/py3env/lib/python3.5/site-packages/sklearn/preprocessing/label.py:151: DeprecationWarning: The truth value of an empty array is ambiguous. Returning False, but in future this will result in an error. Use `array.size > 0` to check that an array is not empty.\n",
      "  if diff:\n",
      "/usr/local/envs/py3env/lib/python3.5/site-packages/sklearn/preprocessing/label.py:151: DeprecationWarning: The truth value of an empty array is ambiguous. Returning False, but in future this will result in an error. Use `array.size > 0` to check that an array is not empty.\n",
      "  if diff:\n",
      "/usr/local/envs/py3env/lib/python3.5/site-packages/sklearn/preprocessing/label.py:151: DeprecationWarning: The truth value of an empty array is ambiguous. Returning False, but in future this will result in an error. Use `array.size > 0` to check that an array is not empty.\n",
      "  if diff:\n",
      "/usr/local/envs/py3env/lib/python3.5/site-packages/sklearn/preprocessing/label.py:151: DeprecationWarning: The truth value of an empty array is ambiguous. Returning False, but in future this will result in an error. Use `array.size > 0` to check that an array is not empty.\n",
      "  if diff:\n",
      "/usr/local/envs/py3env/lib/python3.5/site-packages/sklearn/preprocessing/label.py:151: DeprecationWarning: The truth value of an empty array is ambiguous. Returning False, but in future this will result in an error. Use `array.size > 0` to check that an array is not empty.\n",
      "  if diff:\n",
      "/usr/local/envs/py3env/lib/python3.5/site-packages/sklearn/preprocessing/label.py:151: DeprecationWarning: The truth value of an empty array is ambiguous. Returning False, but in future this will result in an error. Use `array.size > 0` to check that an array is not empty.\n",
      "  if diff:\n",
      "/usr/local/envs/py3env/lib/python3.5/site-packages/sklearn/preprocessing/label.py:151: DeprecationWarning: The truth value of an empty array is ambiguous. Returning False, but in future this will result in an error. Use `array.size > 0` to check that an array is not empty.\n",
      "  if diff:\n"
     ]
    },
    {
     "name": "stderr",
     "output_type": "stream",
     "text": [
      "/usr/local/envs/py3env/lib/python3.5/site-packages/sklearn/preprocessing/label.py:151: DeprecationWarning: The truth value of an empty array is ambiguous. Returning False, but in future this will result in an error. Use `array.size > 0` to check that an array is not empty.\n",
      "  if diff:\n",
      "/usr/local/envs/py3env/lib/python3.5/site-packages/sklearn/preprocessing/label.py:151: DeprecationWarning: The truth value of an empty array is ambiguous. Returning False, but in future this will result in an error. Use `array.size > 0` to check that an array is not empty.\n",
      "  if diff:\n",
      "/usr/local/envs/py3env/lib/python3.5/site-packages/sklearn/preprocessing/label.py:151: DeprecationWarning: The truth value of an empty array is ambiguous. Returning False, but in future this will result in an error. Use `array.size > 0` to check that an array is not empty.\n",
      "  if diff:\n",
      "/usr/local/envs/py3env/lib/python3.5/site-packages/sklearn/preprocessing/label.py:151: DeprecationWarning: The truth value of an empty array is ambiguous. Returning False, but in future this will result in an error. Use `array.size > 0` to check that an array is not empty.\n",
      "  if diff:\n",
      "/usr/local/envs/py3env/lib/python3.5/site-packages/sklearn/preprocessing/label.py:151: DeprecationWarning: The truth value of an empty array is ambiguous. Returning False, but in future this will result in an error. Use `array.size > 0` to check that an array is not empty.\n",
      "  if diff:\n",
      "/usr/local/envs/py3env/lib/python3.5/site-packages/sklearn/preprocessing/label.py:151: DeprecationWarning: The truth value of an empty array is ambiguous. Returning False, but in future this will result in an error. Use `array.size > 0` to check that an array is not empty.\n",
      "  if diff:\n",
      "/usr/local/envs/py3env/lib/python3.5/site-packages/sklearn/preprocessing/label.py:151: DeprecationWarning: The truth value of an empty array is ambiguous. Returning False, but in future this will result in an error. Use `array.size > 0` to check that an array is not empty.\n",
      "  if diff:\n",
      "/usr/local/envs/py3env/lib/python3.5/site-packages/sklearn/preprocessing/label.py:151: DeprecationWarning: The truth value of an empty array is ambiguous. Returning False, but in future this will result in an error. Use `array.size > 0` to check that an array is not empty.\n",
      "  if diff:\n",
      "/usr/local/envs/py3env/lib/python3.5/site-packages/sklearn/preprocessing/label.py:151: DeprecationWarning: The truth value of an empty array is ambiguous. Returning False, but in future this will result in an error. Use `array.size > 0` to check that an array is not empty.\n",
      "  if diff:\n",
      "/usr/local/envs/py3env/lib/python3.5/site-packages/sklearn/preprocessing/label.py:151: DeprecationWarning: The truth value of an empty array is ambiguous. Returning False, but in future this will result in an error. Use `array.size > 0` to check that an array is not empty.\n",
      "  if diff:\n",
      "/usr/local/envs/py3env/lib/python3.5/site-packages/sklearn/preprocessing/label.py:151: DeprecationWarning: The truth value of an empty array is ambiguous. Returning False, but in future this will result in an error. Use `array.size > 0` to check that an array is not empty.\n",
      "  if diff:\n",
      "/usr/local/envs/py3env/lib/python3.5/site-packages/sklearn/preprocessing/label.py:151: DeprecationWarning: The truth value of an empty array is ambiguous. Returning False, but in future this will result in an error. Use `array.size > 0` to check that an array is not empty.\n",
      "  if diff:\n"
     ]
    }
   ],
   "source": [
    "# ?\n",
    "# X_train = X_train.as_matrix()\n",
    "# X_val = X_val.as_matrix()\n",
    "# Y_train = Y_train.as_matrix()\n",
    "# Y_val = Y_val.as_matrix()\n",
    "print(type(X_train))\n",
    "xgb_watchlist = [(X_train, Y_train), (X_val, Y_val)]\n",
    "model.fit(X_train, Y_train,eval_set=xgb_watchlist,eval_metric='logloss',early_stopping_rounds=20,verbose=70)\n",
    "per = PermutationImportance(model,random_state=1,).fit(X_val,Y_val)\n",
    "# eli5.show_weights(per, feature_names=X_val.columns.tolist())"
   ]
  },
  {
   "cell_type": "code",
   "execution_count": 69,
   "metadata": {},
   "outputs": [],
   "source": [
    "import eli5"
   ]
  },
  {
   "cell_type": "code",
   "execution_count": 85,
   "metadata": {},
   "outputs": [
    {
     "data": {
      "text/html": [
       "\n",
       "    <style>\n",
       "    table.eli5-weights tr:hover {\n",
       "        filter: brightness(85%);\n",
       "    }\n",
       "</style>\n",
       "\n",
       "\n",
       "\n",
       "    \n",
       "\n",
       "    \n",
       "\n",
       "    \n",
       "\n",
       "    \n",
       "\n",
       "    \n",
       "\n",
       "    \n",
       "\n",
       "\n",
       "    \n",
       "\n",
       "    \n",
       "\n",
       "    \n",
       "\n",
       "    \n",
       "\n",
       "    \n",
       "\n",
       "    \n",
       "\n",
       "\n",
       "    \n",
       "\n",
       "    \n",
       "\n",
       "    \n",
       "\n",
       "    \n",
       "\n",
       "    \n",
       "        <table class=\"eli5-weights eli5-feature-importances\" style=\"border-collapse: collapse; border: none; margin-top: 0em; table-layout: auto;\">\n",
       "    <thead>\n",
       "    <tr style=\"border: none;\">\n",
       "        <th style=\"padding: 0 1em 0 0.5em; text-align: right; border: none;\">Weight</th>\n",
       "        <th style=\"padding: 0 0.5em 0 0.5em; text-align: left; border: none;\">Feature</th>\n",
       "    </tr>\n",
       "    </thead>\n",
       "    <tbody>\n",
       "    \n",
       "        <tr style=\"background-color: hsl(120, 100.00%, 80.00%); border: none;\">\n",
       "            <td style=\"padding: 0 1em 0 0.5em; text-align: right; border: none;\">\n",
       "                0.0385\n",
       "                \n",
       "                    &plusmn; 0.0004\n",
       "                \n",
       "            </td>\n",
       "            <td style=\"padding: 0 0.5em 0 0.5em; text-align: left; border: none;\">\n",
       "                x6\n",
       "            </td>\n",
       "        </tr>\n",
       "    \n",
       "        <tr style=\"background-color: hsl(120, 100.00%, 86.35%); border: none;\">\n",
       "            <td style=\"padding: 0 1em 0 0.5em; text-align: right; border: none;\">\n",
       "                0.0223\n",
       "                \n",
       "                    &plusmn; 0.0005\n",
       "                \n",
       "            </td>\n",
       "            <td style=\"padding: 0 0.5em 0 0.5em; text-align: left; border: none;\">\n",
       "                x7\n",
       "            </td>\n",
       "        </tr>\n",
       "    \n",
       "        <tr style=\"background-color: hsl(120, 100.00%, 98.61%); border: none;\">\n",
       "            <td style=\"padding: 0 1em 0 0.5em; text-align: right; border: none;\">\n",
       "                0.0009\n",
       "                \n",
       "                    &plusmn; 0.0002\n",
       "                \n",
       "            </td>\n",
       "            <td style=\"padding: 0 0.5em 0 0.5em; text-align: left; border: none;\">\n",
       "                x4\n",
       "            </td>\n",
       "        </tr>\n",
       "    \n",
       "        <tr style=\"background-color: hsl(120, 100.00%, 99.28%); border: none;\">\n",
       "            <td style=\"padding: 0 1em 0 0.5em; text-align: right; border: none;\">\n",
       "                0.0003\n",
       "                \n",
       "                    &plusmn; 0.0003\n",
       "                \n",
       "            </td>\n",
       "            <td style=\"padding: 0 0.5em 0 0.5em; text-align: left; border: none;\">\n",
       "                x2\n",
       "            </td>\n",
       "        </tr>\n",
       "    \n",
       "        <tr style=\"background-color: hsl(120, 100.00%, 99.37%); border: none;\">\n",
       "            <td style=\"padding: 0 1em 0 0.5em; text-align: right; border: none;\">\n",
       "                0.0003\n",
       "                \n",
       "                    &plusmn; 0.0002\n",
       "                \n",
       "            </td>\n",
       "            <td style=\"padding: 0 0.5em 0 0.5em; text-align: left; border: none;\">\n",
       "                x0\n",
       "            </td>\n",
       "        </tr>\n",
       "    \n",
       "        <tr style=\"background-color: hsl(120, 100.00%, 99.58%); border: none;\">\n",
       "            <td style=\"padding: 0 1em 0 0.5em; text-align: right; border: none;\">\n",
       "                0.0002\n",
       "                \n",
       "                    &plusmn; 0.0003\n",
       "                \n",
       "            </td>\n",
       "            <td style=\"padding: 0 0.5em 0 0.5em; text-align: left; border: none;\">\n",
       "                x5\n",
       "            </td>\n",
       "        </tr>\n",
       "    \n",
       "        <tr style=\"background-color: hsl(120, 100.00%, 99.77%); border: none;\">\n",
       "            <td style=\"padding: 0 1em 0 0.5em; text-align: right; border: none;\">\n",
       "                0.0001\n",
       "                \n",
       "                    &plusmn; 0.0000\n",
       "                \n",
       "            </td>\n",
       "            <td style=\"padding: 0 0.5em 0 0.5em; text-align: left; border: none;\">\n",
       "                x3\n",
       "            </td>\n",
       "        </tr>\n",
       "    \n",
       "        <tr style=\"background-color: hsl(0, 100.00%, 99.83%); border: none;\">\n",
       "            <td style=\"padding: 0 1em 0 0.5em; text-align: right; border: none;\">\n",
       "                -0.0000\n",
       "                \n",
       "                    &plusmn; 0.0001\n",
       "                \n",
       "            </td>\n",
       "            <td style=\"padding: 0 0.5em 0 0.5em; text-align: left; border: none;\">\n",
       "                x1\n",
       "            </td>\n",
       "        </tr>\n",
       "    \n",
       "    \n",
       "    </tbody>\n",
       "</table>\n",
       "    \n",
       "\n",
       "    \n",
       "\n",
       "\n",
       "    \n",
       "\n",
       "    \n",
       "\n",
       "    \n",
       "\n",
       "    \n",
       "\n",
       "    \n",
       "\n",
       "    \n",
       "\n",
       "\n",
       "\n"
      ],
      "text/plain": [
       "Explanation(estimator=\"PermutationImportance(cv='prefit',\\n           estimator=XGBClassifier(base_score=0.5, booster='gbtree', colsample_bylevel=1,\\n       colsample_bytree=1, gamma=0, learning_rate=0.08, max_delta_step=0,\\n       max_depth=4, min_child_weight=1, missing=-1, n_estimators=300,\\n       n_jobs=1, nthread=None, objective='binary:logistic', random_state=0,\\n       reg_alpha=0, reg_lambda=1, scale_pos_weight=1, seed=2, silent=True,\\n       subsample=0.5),\\n           n_iter=5, random_state=1, refit=True, scoring=None)\", description=\"\\nFeature importances, computed as a decrease in score when feature\\nvalues are permuted (i.e. become noise). This is also known as \\npermutation importance.\\n\\nIf feature importances are computed on the same data as used for training, \\nthey don't reflect importance of features for generalization. Use a held-out\\ndataset if you want generalization feature importances.\\n\", error=None, method='feature importances', is_regression=False, targets=None, feature_importances=FeatureImportances(importances=[FeatureWeight(feature='x6', weight=0.03848843767625498, std=0.00018919346279734994, value=None), FeatureWeight(feature='x7', weight=0.02229892836999441, std=0.00023190858947241577, value=None), FeatureWeight(feature='x4', weight=0.0008539199097575168, std=7.555285752797158e-05, value=None), FeatureWeight(feature='x2', weight=0.0003327693175409374, std=0.000135175654181116, value=None), FeatureWeight(feature='x0', weight=0.00027411167512692014, std=7.892997488791012e-05, value=None), FeatureWeight(feature='x5', weight=0.00015341229554433067, std=0.0001261379424567875, value=None), FeatureWeight(feature='x3', weight=6.542583192332696e-05, std=2.486791617036996e-05, value=None), FeatureWeight(feature='x1', weight=-4.3993231810457444e-05, std=6.571691669996861e-05, value=None)], remaining=0), decision_tree=None, highlight_spaces=None, transition_features=None)"
      ]
     },
     "execution_count": 85,
     "metadata": {},
     "output_type": "execute_result"
    }
   ],
   "source": [
    "per_html = eli5.explain_weights(per)\n",
    "per_html"
   ]
  },
  {
   "cell_type": "code",
   "execution_count": 83,
   "metadata": {},
   "outputs": [
    {
     "data": {
      "text/html": [
       "<div>\n",
       "<style scoped>\n",
       "    .dataframe tbody tr th:only-of-type {\n",
       "        vertical-align: middle;\n",
       "    }\n",
       "\n",
       "    .dataframe tbody tr th {\n",
       "        vertical-align: top;\n",
       "    }\n",
       "\n",
       "    .dataframe thead th {\n",
       "        text-align: right;\n",
       "    }\n",
       "</style>\n",
       "<table border=\"1\" class=\"dataframe\">\n",
       "  <thead>\n",
       "    <tr style=\"text-align: right;\">\n",
       "      <th></th>\n",
       "      <th>feature</th>\n",
       "      <th>weight</th>\n",
       "      <th>std</th>\n",
       "    </tr>\n",
       "  </thead>\n",
       "  <tbody>\n",
       "    <tr>\n",
       "      <th>0</th>\n",
       "      <td>x6</td>\n",
       "      <td>0.038</td>\n",
       "      <td>0.000</td>\n",
       "    </tr>\n",
       "    <tr>\n",
       "      <th>1</th>\n",
       "      <td>x7</td>\n",
       "      <td>0.022</td>\n",
       "      <td>0.000</td>\n",
       "    </tr>\n",
       "    <tr>\n",
       "      <th>2</th>\n",
       "      <td>x4</td>\n",
       "      <td>0.001</td>\n",
       "      <td>0.000</td>\n",
       "    </tr>\n",
       "    <tr>\n",
       "      <th>3</th>\n",
       "      <td>x2</td>\n",
       "      <td>0.000</td>\n",
       "      <td>0.000</td>\n",
       "    </tr>\n",
       "    <tr>\n",
       "      <th>4</th>\n",
       "      <td>x0</td>\n",
       "      <td>0.000</td>\n",
       "      <td>0.000</td>\n",
       "    </tr>\n",
       "    <tr>\n",
       "      <th>5</th>\n",
       "      <td>x5</td>\n",
       "      <td>0.000</td>\n",
       "      <td>0.000</td>\n",
       "    </tr>\n",
       "    <tr>\n",
       "      <th>6</th>\n",
       "      <td>x3</td>\n",
       "      <td>0.000</td>\n",
       "      <td>0.000</td>\n",
       "    </tr>\n",
       "    <tr>\n",
       "      <th>7</th>\n",
       "      <td>x1</td>\n",
       "      <td>-0.000</td>\n",
       "      <td>0.000</td>\n",
       "    </tr>\n",
       "  </tbody>\n",
       "</table>\n",
       "</div>"
      ],
      "text/plain": [
       "  feature  weight   std\n",
       "0      x6   0.038 0.000\n",
       "1      x7   0.022 0.000\n",
       "2      x4   0.001 0.000\n",
       "3      x2   0.000 0.000\n",
       "4      x0   0.000 0.000\n",
       "5      x5   0.000 0.000\n",
       "6      x3   0.000 0.000\n",
       "7      x1  -0.000 0.000"
      ]
     },
     "execution_count": 83,
     "metadata": {},
     "output_type": "execute_result"
    }
   ],
   "source": [
    "per_df = eli5.explain_weights_df(per)\n",
    "\n",
    "feature_names = df_train[one_month_day_listen_fts].drop(labels=['msno','is_churn'],axis=1).columns.tolist()\n",
    "\n",
    "feature_names\n",
    "per_df['feature_name'] = ['last_auto_renew','one_month_day_listen','last_last_churn','registered_via',\n",
    "                         'six_month_day_listen','client_level_code','age_under_26','six_month_satis']"
   ]
  },
  {
   "cell_type": "code",
   "execution_count": 99,
   "metadata": {},
   "outputs": [
    {
     "data": {
      "image/png": "[encoded data removed]",
      "text/plain": [
       "<matplotlib.figure.Figure at 0x7f5da3d1e550>"
      ]
     },
     "metadata": {},
     "output_type": "display_data"
    }
   ],
   "source": [
    "fig, ax =plt.subplots(figsize=(10,6))\n",
    "per_df.plot(kind='barh',y='weight',x='feature_name',ax=ax)\n",
    "ax.invert_yaxis()"
   ]
  },
  {
   "cell_type": "code",
   "execution_count": 103,
   "metadata": {},
   "outputs": [
    {
     "data": {
      "text/plain": [
       "<matplotlib.axes._subplots.AxesSubplot at 0x7f5da3adeb70>"
      ]
     },
     "execution_count": 103,
     "metadata": {},
     "output_type": "execute_result"
    },
    {
     "data": {
      "image/png": "[encoded data removed]",
      "text/plain": [
       "<matplotlib.figure.Figure at 0x7f5da3be4ac8>"
      ]
     },
     "metadata": {},
     "output_type": "display_data"
    }
   ],
   "source": [
    "xgb.plot_importance(model,importance_type='gain',show_values=False)"
   ]
  },
  {
   "cell_type": "code",
   "execution_count": null,
   "metadata": {},
   "outputs": [],
   "source": []
  }
 ],
 "metadata": {
  "kernelspec": {
   "display_name": "Python 3",
   "language": "python",
   "name": "python3"
  },
  "language_info": {
   "codemirror_mode": {
    "name": "ipython",
    "version": 3
   },
   "file_extension": ".py",
   "mimetype": "text/x-python",
   "name": "python",
   "nbconvert_exporter": "python",
   "pygments_lexer": "ipython3",
   "version": "3.5.5"
  }
 },
 "nbformat": 4,
 "nbformat_minor": 2
}
